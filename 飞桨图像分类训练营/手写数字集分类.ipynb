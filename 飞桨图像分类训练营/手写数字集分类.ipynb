{
 "cells": [
  {
   "cell_type": "markdown",
   "metadata": {
    "collapsed": false
   },
   "source": [
    "# 作业要求：\n",
    "\t1.补全网络代码，并运行手写数字识别项目。以出现最后的图片和预测结果为准。（65分）\n",
    "   2.保留原本的multilayer_perceptron网络定义（自己补全完的），自己定义一个卷积网络并运行成功。以出现最后的图片和预测结果为准（45分）"
   ]
  },
  {
   "cell_type": "markdown",
   "metadata": {
    "collapsed": false
   },
   "source": [
    "首先导入必要的包\n",
    "\n",
    "numpy---------->python第三方库，用于进行科学计算\n",
    "\n",
    "PIL------------> Python Image Library,python第三方图像处理库\n",
    "\n",
    "matplotlib----->python的绘图库 pyplot:matplotlib的绘图框架\n",
    "\n",
    "os------------->提供了丰富的方法来处理文件和目录"
   ]
  },
  {
   "cell_type": "code",
   "execution_count": 1,
   "metadata": {
    "collapsed": false
   },
   "outputs": [
    {
     "name": "stdout",
     "output_type": "stream",
     "text": [
      "本教程基于Paddle的版本号为：2.0.1\n"
     ]
    }
   ],
   "source": [
    "#导入需要的包\n",
    "import numpy as np\n",
    "from PIL import Image\n",
    "import matplotlib.pyplot as plt\n",
    "import os\n",
    "import paddle\n",
    "print(\"本教程基于Paddle的版本号为：\"+paddle.__version__)"
   ]
  },
  {
   "cell_type": "markdown",
   "metadata": {
    "collapsed": false
   },
   "source": [
    "# **Step1：准备数据。**\n",
    "\n",
    "(1)数据集介绍\n",
    "\n",
    "MNIST数据集包含60000个训练集和10000测试数据集。分为图片和标签，图片是28*28的像素矩阵，标签为0~9共10个数字。\n",
    "\n",
    "![](https://ai-studio-static-online.cdn.bcebos.com/fc73217ae57f451a89badc801a903bb742e42eabd9434ecc8089efe19a66c076)\n",
    "\n",
    "(2)transform函数是定义了一个归一化标准化的标准\n",
    "\n",
    "(3)train_dataset和test_dataset\n",
    "\n",
    "paddle.vision.datasets.MNIST()中的mode='train'和mode='test'分别用于获取mnist训练集和测试集\n",
    "\n",
    "transform=transform参数则为归一化标准"
   ]
  },
  {
   "cell_type": "code",
   "execution_count": 2,
   "metadata": {
    "collapsed": false
   },
   "outputs": [
    {
     "name": "stdout",
     "output_type": "stream",
     "text": [
      "下载并加载训练数据\n"
     ]
    },
    {
     "name": "stderr",
     "output_type": "stream",
     "text": [
      "Cache file /home/aistudio/.cache/paddle/dataset/mnist/train-images-idx3-ubyte.gz not found, downloading https://dataset.bj.bcebos.com/mnist/train-images-idx3-ubyte.gz \n",
      "Begin to download\n",
      "\n",
      "Download finished\n",
      "Cache file /home/aistudio/.cache/paddle/dataset/mnist/train-labels-idx1-ubyte.gz not found, downloading https://dataset.bj.bcebos.com/mnist/train-labels-idx1-ubyte.gz \n",
      "Begin to download\n",
      "........\n",
      "Download finished\n",
      "Cache file /home/aistudio/.cache/paddle/dataset/mnist/t10k-images-idx3-ubyte.gz not found, downloading https://dataset.bj.bcebos.com/mnist/t10k-images-idx3-ubyte.gz \n",
      "Begin to download\n",
      "\n",
      "Download finished\n",
      "Cache file /home/aistudio/.cache/paddle/dataset/mnist/t10k-labels-idx1-ubyte.gz not found, downloading https://dataset.bj.bcebos.com/mnist/t10k-labels-idx1-ubyte.gz \n",
      "Begin to download\n",
      "..\n",
      "Download finished\n"
     ]
    },
    {
     "name": "stdout",
     "output_type": "stream",
     "text": [
      "加载完成\n"
     ]
    }
   ],
   "source": [
    "#导入数据集Compose的作用是将用于数据集预处理的接口以列表的方式进行组合。\n",
    "#导入数据集Normalize的作用是图像归一化处理，支持两种方式： 1. 用统一的均值和标准差值对图像的每个通道进行归一化处理； 2. 对每个通道指定不同的均值和标准差值进行归一化处理。\n",
    "from paddle.vision.transforms import Compose, Normalize\n",
    "transform = Compose([Normalize(mean=[127.5],std=[127.5],data_format='CHW')])\n",
    "# 使用transform对数据集做归一化\n",
    "print('下载并加载训练数据')\n",
    "train_dataset = paddle.vision.datasets.MNIST(mode='train', transform=transform)\n",
    "test_dataset = paddle.vision.datasets.MNIST(mode='test', transform=transform)\n",
    "print('加载完成')"
   ]
  },
  {
   "cell_type": "code",
   "execution_count": 3,
   "metadata": {
    "collapsed": false
   },
   "outputs": [
    {
     "name": "stdout",
     "output_type": "stream",
     "text": [
      "AxesImage(18,18;111.6x108.72)\n",
      "train_data0 的标签为: [5]\n"
     ]
    },
    {
     "name": "stderr",
     "output_type": "stream",
     "text": [
      "/opt/conda/envs/python35-paddle120-env/lib/python3.7/site-packages/matplotlib/cbook/__init__.py:2349: DeprecationWarning: Using or importing the ABCs from 'collections' instead of from 'collections.abc' is deprecated, and in 3.8 it will stop working\n",
      "  if isinstance(obj, collections.Iterator):\n",
      "/opt/conda/envs/python35-paddle120-env/lib/python3.7/site-packages/matplotlib/cbook/__init__.py:2366: DeprecationWarning: Using or importing the ABCs from 'collections' instead of from 'collections.abc' is deprecated, and in 3.8 it will stop working\n",
      "  return list(data) if isinstance(data, collections.MappingView) else data\n",
      "/opt/conda/envs/python35-paddle120-env/lib/python3.7/site-packages/numpy/lib/type_check.py:546: DeprecationWarning: np.asscalar(a) is deprecated since NumPy v1.16, use a.item() instead\n",
      "  'a.item() instead', DeprecationWarning, stacklevel=1)\n"
     ]
    },
    {
     "data": {
      "image/png": "[encoded data removed]",
      "text/plain": [
       "<Figure size 144x144 with 1 Axes>"
      ]
     },
     "metadata": {},
     "output_type": "display_data"
    }
   ],
   "source": [
    "#让我们一起看看数据集中的图片是什么样子的\n",
    "train_data0, train_label_0 = train_dataset[0][0],train_dataset[0][1]\n",
    "train_data0 = train_data0.reshape([28,28])\n",
    "plt.figure(figsize=(2,2))\n",
    "print(plt.imshow(train_data0, cmap=plt.cm.binary))\n",
    "print('train_data0 的标签为: ' + str(train_label_0))"
   ]
  },
  {
   "cell_type": "code",
   "execution_count": 4,
   "metadata": {
    "collapsed": false
   },
   "outputs": [
    {
     "name": "stdout",
     "output_type": "stream",
     "text": [
      "[[-1.         -1.         -1.         -1.         -1.         -1.\n",
      "  -1.         -1.         -1.         -1.         -1.         -1.\n",
      "  -1.         -1.         -1.         -1.         -1.         -1.\n",
      "  -1.         -1.         -1.         -1.         -1.         -1.\n",
      "  -1.         -1.         -1.         -1.        ]\n",
      " [-1.         -1.         -1.         -1.         -1.         -1.\n",
      "  -1.         -1.         -1.         -1.         -1.         -1.\n",
      "  -1.         -1.         -1.         -1.         -1.         -1.\n",
      "  -1.         -1.         -1.         -1.         -1.         -1.\n",
      "  -1.         -1.         -1.         -1.        ]\n",
      " [-1.         -1.         -1.         -1.         -1.         -1.\n",
      "  -1.         -1.         -1.         -1.         -1.         -1.\n",
      "  -1.         -1.         -1.         -1.         -1.         -1.\n",
      "  -1.         -1.         -1.         -1.         -1.         -1.\n",
      "  -1.         -1.         -1.         -1.        ]\n",
      " [-1.         -1.         -1.         -1.         -1.         -1.\n",
      "  -1.         -1.         -1.         -1.         -1.         -1.\n",
      "  -1.         -1.         -1.         -1.         -1.         -1.\n",
      "  -1.         -1.         -1.         -1.         -1.         -1.\n",
      "  -1.         -1.         -1.         -1.        ]\n",
      " [-1.         -1.         -1.         -1.         -1.         -1.\n",
      "  -1.         -1.         -1.         -1.         -1.         -1.\n",
      "  -1.         -1.         -1.         -1.         -1.         -1.\n",
      "  -1.         -1.         -1.         -1.         -1.         -1.\n",
      "  -1.         -1.         -1.         -1.        ]\n",
      " [-1.         -1.         -1.         -1.         -1.         -1.\n",
      "  -1.         -1.         -1.         -1.         -1.         -1.\n",
      "  -0.9764706  -0.85882354 -0.85882354 -0.85882354 -0.01176471  0.06666667\n",
      "   0.37254903 -0.79607844  0.3019608   1.          0.9372549  -0.00392157\n",
      "  -1.         -1.         -1.         -1.        ]\n",
      " [-1.         -1.         -1.         -1.         -1.         -1.\n",
      "  -1.         -1.         -0.7647059  -0.7176471  -0.2627451   0.20784314\n",
      "   0.33333334  0.9843137   0.9843137   0.9843137   0.9843137   0.9843137\n",
      "   0.7647059   0.34901962  0.9843137   0.8980392   0.5294118  -0.49803922\n",
      "  -1.         -1.         -1.         -1.        ]\n",
      " [-1.         -1.         -1.         -1.         -1.         -1.\n",
      "  -1.         -0.6156863   0.8666667   0.9843137   0.9843137   0.9843137\n",
      "   0.9843137   0.9843137   0.9843137   0.9843137   0.9843137   0.96862745\n",
      "  -0.27058825 -0.35686275 -0.35686275 -0.56078434 -0.69411767 -1.\n",
      "  -1.         -1.         -1.         -1.        ]\n",
      " [-1.         -1.         -1.         -1.         -1.         -1.\n",
      "  -1.         -0.85882354  0.7176471   0.9843137   0.9843137   0.9843137\n",
      "   0.9843137   0.9843137   0.5529412   0.42745098  0.9372549   0.8901961\n",
      "  -1.         -1.         -1.         -1.         -1.         -1.\n",
      "  -1.         -1.         -1.         -1.        ]\n",
      " [-1.         -1.         -1.         -1.         -1.         -1.\n",
      "  -1.         -1.         -0.37254903  0.22352941 -0.16078432  0.9843137\n",
      "   0.9843137   0.60784316 -0.9137255  -1.         -0.6627451   0.20784314\n",
      "  -1.         -1.         -1.         -1.         -1.         -1.\n",
      "  -1.         -1.         -1.         -1.        ]\n",
      " [-1.         -1.         -1.         -1.         -1.         -1.\n",
      "  -1.         -1.         -1.         -0.8901961  -0.99215686  0.20784314\n",
      "   0.9843137  -0.29411766 -1.         -1.         -1.         -1.\n",
      "  -1.         -1.         -1.         -1.         -1.         -1.\n",
      "  -1.         -1.         -1.         -1.        ]\n",
      " [-1.         -1.         -1.         -1.         -1.         -1.\n",
      "  -1.         -1.         -1.         -1.         -1.          0.09019608\n",
      "   0.9843137   0.49019608 -0.9843137  -1.         -1.         -1.\n",
      "  -1.         -1.         -1.         -1.         -1.         -1.\n",
      "  -1.         -1.         -1.         -1.        ]\n",
      " [-1.         -1.         -1.         -1.         -1.         -1.\n",
      "  -1.         -1.         -1.         -1.         -1.         -0.9137255\n",
      "   0.49019608  0.9843137  -0.4509804  -1.         -1.         -1.\n",
      "  -1.         -1.         -1.         -1.         -1.         -1.\n",
      "  -1.         -1.         -1.         -1.        ]\n",
      " [-1.         -1.         -1.         -1.         -1.         -1.\n",
      "  -1.         -1.         -1.         -1.         -1.         -1.\n",
      "  -0.7254902   0.8901961   0.7647059   0.25490198 -0.15294118 -0.99215686\n",
      "  -1.         -1.         -1.         -1.         -1.         -1.\n",
      "  -1.         -1.         -1.         -1.        ]\n",
      " [-1.         -1.         -1.         -1.         -1.         -1.\n",
      "  -1.         -1.         -1.         -1.         -1.         -1.\n",
      "  -1.         -0.3647059   0.88235295  0.9843137   0.9843137  -0.06666667\n",
      "  -0.8039216  -1.         -1.         -1.         -1.         -1.\n",
      "  -1.         -1.         -1.         -1.        ]\n",
      " [-1.         -1.         -1.         -1.         -1.         -1.\n",
      "  -1.         -1.         -1.         -1.         -1.         -1.\n",
      "  -1.         -1.         -0.64705884  0.45882353  0.9843137   0.9843137\n",
      "   0.1764706  -0.7882353  -1.         -1.         -1.         -1.\n",
      "  -1.         -1.         -1.         -1.        ]\n",
      " [-1.         -1.         -1.         -1.         -1.         -1.\n",
      "  -1.         -1.         -1.         -1.         -1.         -1.\n",
      "  -1.         -1.         -1.         -0.8745098  -0.27058825  0.9764706\n",
      "   0.9843137   0.46666667 -1.         -1.         -1.         -1.\n",
      "  -1.         -1.         -1.         -1.        ]\n",
      " [-1.         -1.         -1.         -1.         -1.         -1.\n",
      "  -1.         -1.         -1.         -1.         -1.         -1.\n",
      "  -1.         -1.         -1.         -1.         -1.          0.9529412\n",
      "   0.9843137   0.9529412  -0.49803922 -1.         -1.         -1.\n",
      "  -1.         -1.         -1.         -1.        ]\n",
      " [-1.         -1.         -1.         -1.         -1.         -1.\n",
      "  -1.         -1.         -1.         -1.         -1.         -1.\n",
      "  -1.         -1.         -0.6392157   0.01960784  0.43529412  0.9843137\n",
      "   0.9843137   0.62352943 -0.9843137  -1.         -1.         -1.\n",
      "  -1.         -1.         -1.         -1.        ]\n",
      " [-1.         -1.         -1.         -1.         -1.         -1.\n",
      "  -1.         -1.         -1.         -1.         -1.         -1.\n",
      "  -0.69411767  0.16078432  0.79607844  0.9843137   0.9843137   0.9843137\n",
      "   0.9607843   0.42745098 -1.         -1.         -1.         -1.\n",
      "  -1.         -1.         -1.         -1.        ]\n",
      " [-1.         -1.         -1.         -1.         -1.         -1.\n",
      "  -1.         -1.         -1.         -1.         -0.8117647  -0.10588235\n",
      "   0.73333335  0.9843137   0.9843137   0.9843137   0.9843137   0.5764706\n",
      "  -0.3882353  -1.         -1.         -1.         -1.         -1.\n",
      "  -1.         -1.         -1.         -1.        ]\n",
      " [-1.         -1.         -1.         -1.         -1.         -1.\n",
      "  -1.         -1.         -0.81960785 -0.48235294  0.67058825  0.9843137\n",
      "   0.9843137   0.9843137   0.9843137   0.5529412  -0.3647059  -0.9843137\n",
      "  -1.         -1.         -1.         -1.         -1.         -1.\n",
      "  -1.         -1.         -1.         -1.        ]\n",
      " [-1.         -1.         -1.         -1.         -1.         -1.\n",
      "  -0.85882354  0.34117648  0.7176471   0.9843137   0.9843137   0.9843137\n",
      "   0.9843137   0.5294118  -0.37254903 -0.92941177 -1.         -1.\n",
      "  -1.         -1.         -1.         -1.         -1.         -1.\n",
      "  -1.         -1.         -1.         -1.        ]\n",
      " [-1.         -1.         -1.         -1.         -0.5686275   0.34901962\n",
      "   0.77254903  0.9843137   0.9843137   0.9843137   0.9843137   0.9137255\n",
      "   0.04313726 -0.9137255  -1.         -1.         -1.         -1.\n",
      "  -1.         -1.         -1.         -1.         -1.         -1.\n",
      "  -1.         -1.         -1.         -1.        ]\n",
      " [-1.         -1.         -1.         -1.          0.06666667  0.9843137\n",
      "   0.9843137   0.9843137   0.6627451   0.05882353  0.03529412 -0.8745098\n",
      "  -1.         -1.         -1.         -1.         -1.         -1.\n",
      "  -1.         -1.         -1.         -1.         -1.         -1.\n",
      "  -1.         -1.         -1.         -1.        ]\n",
      " [-1.         -1.         -1.         -1.         -1.         -1.\n",
      "  -1.         -1.         -1.         -1.         -1.         -1.\n",
      "  -1.         -1.         -1.         -1.         -1.         -1.\n",
      "  -1.         -1.         -1.         -1.         -1.         -1.\n",
      "  -1.         -1.         -1.         -1.        ]\n",
      " [-1.         -1.         -1.         -1.         -1.         -1.\n",
      "  -1.         -1.         -1.         -1.         -1.         -1.\n",
      "  -1.         -1.         -1.         -1.         -1.         -1.\n",
      "  -1.         -1.         -1.         -1.         -1.         -1.\n",
      "  -1.         -1.         -1.         -1.        ]\n",
      " [-1.         -1.         -1.         -1.         -1.         -1.\n",
      "  -1.         -1.         -1.         -1.         -1.         -1.\n",
      "  -1.         -1.         -1.         -1.         -1.         -1.\n",
      "  -1.         -1.         -1.         -1.         -1.         -1.\n",
      "  -1.         -1.         -1.         -1.        ]]\n"
     ]
    }
   ],
   "source": [
    "#让我们再来看看数据样子是什么样的吧\r\n",
    "print(train_data0)"
   ]
  },
  {
   "cell_type": "markdown",
   "metadata": {
    "collapsed": false
   },
   "source": [
    "# **Step2.网络配置**\n",
    "以下的代码判断就是定义一个简单的多层感知器，一共有三层，两个大小为100的隐层和一个大小为10的输出层，因为MNIST数据集是手写0到9的灰度图像，类别有10个，所以最后的输出大小是10。最后输出层的激活函数是Softmax，所以最后的输出层相当于一个分类器。加上一个输入层的话，多层感知器的结构是：输入层-->>隐层-->>隐层-->>输出层。\n",
    "\n",
    "![](https://ai-studio-static-online.cdn.bcebos.com/cb69f928778c4299b75814179607a89eea770bdc409d4e08a87e2975cb96b19b)"
   ]
  },
  {
   "cell_type": "markdown",
   "metadata": {
    "collapsed": false
   },
   "source": [
    "# 请补全网络代码"
   ]
  },
  {
   "cell_type": "code",
   "execution_count": null,
   "metadata": {
    "collapsed": false
   },
   "outputs": [],
   "source": [
    "import paddle\r\n",
    "import paddle.nn.functional as F\r\n",
    "from paddle.vision.transforms import ToTensor"
   ]
  },
  {
   "cell_type": "code",
   "execution_count": null,
   "metadata": {
    "collapsed": false
   },
   "outputs": [],
   "source": [
    "# 定义多层感知器 \r\n",
    "#动态图定义多层感知器\r\n",
    "class multilayer_perceptron(paddle.nn.Layer):\r\n",
    "    def __init__(self):\r\n",
    "        super(multilayer_perceptron,self).__init__()\r\n",
    "        #请在这里补全网络代码\r\n",
    "        self.flatten = paddle.nn.Flatten()\r\n",
    "        self.hidden = paddle.nn.Linear(in_features=784,out_features=128)\r\n",
    "        self.output = paddle.nn.Linear(in_features=128,out_features=10)\r\n",
    "\r\n",
    "    def forward(self, x):\r\n",
    "        #请在这里补全传播过程的代码\r\n",
    "        x = self.flatten(x)\r\n",
    "        x = self.hidden(x)\r\n",
    "        x = F.relu(x)\r\n",
    "        y = self.output(x)\r\n",
    "\r\n",
    "        return y"
   ]
  },
  {
   "cell_type": "markdown",
   "metadata": {
    "collapsed": false
   },
   "source": [
    "# 卷积LeNet（另外几种方式定义网络）"
   ]
  },
  {
   "cell_type": "code",
   "execution_count": null,
   "metadata": {
    "collapsed": false
   },
   "outputs": [],
   "source": [
    "import paddle.nn as nn"
   ]
  },
  {
   "cell_type": "code",
   "execution_count": null,
   "metadata": {
    "collapsed": false
   },
   "outputs": [],
   "source": [
    "LeNet1 = nn.Sequential(\r\n",
    "    nn.Conv2D(in_channels=1, out_channels=6, kernel_size=3, stride=1, padding=1),\r\n",
    "    nn.ReLU(),\r\n",
    "    nn.MaxPool2D(kernel_size=2, stride=2),\r\n",
    "    nn.Conv2D(in_channels=6, out_channels=16, kernel_size=5, stride=1, padding=0),\r\n",
    "    nn.ReLU(),\r\n",
    "    nn.MaxPool2D(kernel_size=2, stride=2),\r\n",
    "    nn.Flatten(),\r\n",
    "    nn.Linear(in_features=400, out_features=120),  # 400 = 5x5x16，输入形状为32x32， 输入形状为28x28时调整为256\r\n",
    "    nn.Linear(in_features=120, out_features=84),\r\n",
    "    nn.Linear(in_features=84, out_features=10)\r\n",
    ")"
   ]
  },
  {
   "cell_type": "code",
   "execution_count": null,
   "metadata": {
    "collapsed": false
   },
   "outputs": [],
   "source": [
    "#请在这里定义卷积网络的代码\r\n",
    "class LeNet2(nn.Layer):\r\n",
    "\r\n",
    "    def __init__(self, num_classes=10):\r\n",
    "        \"\"\"\r\n",
    "        初始化函数\r\n",
    "        \"\"\"\r\n",
    "        super(LeNet2, self).__init__()\r\n",
    "\r\n",
    "        self.features = nn.Sequential(\r\n",
    "            nn.Conv2D(in_channels=1, out_channels=6, kernel_size=3, stride=1, padding=1),  # 第一层卷积\r\n",
    "            nn.ReLU(), # 激活函数\r\n",
    "            nn.MaxPool2D(kernel_size=2, stride=2),  # 最大池化，下采样\r\n",
    "            nn.Conv2D(in_channels=6, out_channels=16, kernel_size=5, stride=1, padding=0), # 第二层卷积\r\n",
    "            nn.ReLU(), # 激活函数\r\n",
    "            nn.MaxPool2D(kernel_size=2, stride=2) # 最大池化，下采样\r\n",
    "        )\r\n",
    "\r\n",
    "        self.fc = nn.Sequential(\r\n",
    "            nn.Linear(400, 120),  # 全连接\r\n",
    "            nn.Linear(120, 84),   # 全连接\r\n",
    "            nn.Linear(84, num_classes) # 输出层\r\n",
    "        )\r\n",
    "\r\n",
    "    def forward(self, inputs):\r\n",
    "        \r\n",
    "        y = self.features(inputs)\r\n",
    "        y = paddle.flatten(y, 1)\r\n",
    "        out = self.fc(y)\r\n",
    "\r\n",
    "        return out\r\n",
    "\r\n",
    "LeNet = LeNet2()\r\n",
    "\r\n",
    "#注意：定义完成卷积的代码后，后面的代码是需要修改的！"
   ]
  },
  {
   "cell_type": "code",
   "execution_count": null,
   "metadata": {
    "collapsed": false
   },
   "outputs": [],
   "source": [
    "# 高层API的使用\r\n",
    "LeNet3 = paddle.vision.models.LeNet(num_classes=10)"
   ]
  },
  {
   "cell_type": "code",
   "execution_count": null,
   "metadata": {
    "collapsed": false
   },
   "outputs": [
    {
     "name": "stdout",
     "output_type": "stream",
     "text": [
      "---------------------------------------------------------------------------\n",
      " Layer (type)       Input Shape          Output Shape         Param #    \n",
      "===========================================================================\n",
      "   Conv2D-3       [[1, 1, 28, 28]]      [1, 6, 28, 28]          60       \n",
      "    ReLU-3        [[1, 6, 28, 28]]      [1, 6, 28, 28]           0       \n",
      "  MaxPool2D-3     [[1, 6, 28, 28]]      [1, 6, 14, 14]           0       \n",
      "   Conv2D-4       [[1, 6, 14, 14]]     [1, 16, 10, 10]         2,416     \n",
      "    ReLU-4       [[1, 16, 10, 10]]     [1, 16, 10, 10]           0       \n",
      "  MaxPool2D-4    [[1, 16, 10, 10]]      [1, 16, 5, 5]            0       \n",
      "   Linear-4          [[1, 400]]            [1, 120]           48,120     \n",
      "   Linear-5          [[1, 120]]            [1, 84]            10,164     \n",
      "   Linear-6          [[1, 84]]             [1, 10]              850      \n",
      "===========================================================================\n",
      "Total params: 61,610\n",
      "Trainable params: 61,610\n",
      "Non-trainable params: 0\n",
      "---------------------------------------------------------------------------\n",
      "Input size (MB): 0.00\n",
      "Forward/backward pass size (MB): 0.11\n",
      "Params size (MB): 0.24\n",
      "Estimated Total Size (MB): 0.35\n",
      "---------------------------------------------------------------------------\n",
      "\n"
     ]
    },
    {
     "data": {
      "text/plain": [
       "{'total_params': 61610, 'trainable_params': 61610}"
      ]
     },
     "execution_count": null,
     "metadata": {},
     "output_type": "execute_result"
    }
   ],
   "source": [
    "paddle.summary(LeNet,(1, 1, 28, 28))"
   ]
  },
  {
   "cell_type": "code",
   "execution_count": null,
   "metadata": {
    "collapsed": false
   },
   "outputs": [],
   "source": [
    "# from paddle.metric import Accuracy\r\n",
    "\r\n",
    "# # 用Model封装模型\r\n",
    "# model = paddle.Model(multilayer_perceptron())  \r\n",
    "\r\n",
    "# # 定义损失函数\r\n",
    "# optim = paddle.optimizer.Adam(learning_rate=0.001, parameters=model.parameters())\r\n",
    "\r\n",
    "# # 配置模型\r\n",
    "# model.prepare(optim,paddle.nn.CrossEntropyLoss(),Accuracy())\r\n",
    "\r\n",
    "# # 训练保存并验证模型\r\n",
    "# model.fit(train_dataset,test_dataset,epochs=2,batch_size=64,save_dir='multilayer_perceptron',verbose=1)"
   ]
  },
  {
   "cell_type": "code",
   "execution_count": null,
   "metadata": {
    "collapsed": false
   },
   "outputs": [
    {
     "name": "stdout",
     "output_type": "stream",
     "text": [
      "The loss value printed in the log is the current step, and the metric is the average value of previous step.\n",
      "Epoch 1/5\n",
      "step  10/938 [..............................] - loss: 1.9027 - acc: 0.2031 - ETA: 40s - 44ms/step"
     ]
    },
    {
     "name": "stderr",
     "output_type": "stream",
     "text": [
      "/opt/conda/envs/python35-paddle120-env/lib/python3.7/site-packages/paddle/fluid/layers/utils.py:77: DeprecationWarning: Using or importing the ABCs from 'collections' instead of from 'collections.abc' is deprecated, and in 3.8 it will stop working\n",
      "  return (isinstance(seq, collections.Sequence) and\n"
     ]
    },
    {
     "name": "stdout",
     "output_type": "stream",
     "text": [
      "step  20/938 [..............................] - loss: 1.0030 - acc: 0.3867 - ETA: 24s - 26ms/stepstep 938/938 [==============================] - loss: 0.0473 - acc: 0.9387 - 9ms/step         \n",
      "save checkpoint at /home/aistudio/chk_points/0\n",
      "Epoch 2/5\n",
      "step 880/938 [===========================>..] - loss: 0.0366 - acc: 0.9741 - ETA: 0s - 10ms/st"
     ]
    }
   ],
   "source": [
    "# 模型封装\r\n",
    "model = paddle.Model(LeNet)\r\n",
    "\r\n",
    "# 模型配置\r\n",
    "model.prepare(paddle.optimizer.Adam(learning_rate=0.001, parameters=model.parameters()), # 优化器\r\n",
    "              paddle.nn.CrossEntropyLoss(), # 损失函数\r\n",
    "              paddle.metric.Accuracy()) # 评估指标\r\n",
    "\r\n",
    "# 训练可视化VisualDL工具的回调函数\r\n",
    "visualdl = paddle.callbacks.VisualDL(log_dir='visualdl_log')\r\n",
    "\r\n",
    "# 启动全流程训练\r\n",
    "model.fit(train_dataset,  # 训练数据集\r\n",
    "          epochs=5,       # 训练轮次\r\n",
    "          batch_size=64,  # 单次计算数据样本量\r\n",
    "          verbose=1,      # 日志展示形式\r\n",
    "          save_dir='./chk_points/', # 分阶段的训练模型存储路径\r\n",
    "          callbacks=[visualdl])    #可视化  \r\n",
    "\r\n",
    "# 模型评估\r\n",
    "result = model.evaluate(test_dataset, verbose=1)"
   ]
  },
  {
   "cell_type": "code",
   "execution_count": null,
   "metadata": {
    "collapsed": false
   },
   "outputs": [],
   "source": [
    "#获取测试集的第一个图片\r\n",
    "test_data0, test_label_0 = test_dataset[0][0],test_dataset[0][1]\r\n",
    "test_data0 = test_data0.reshape([28,28])\r\n",
    "plt.figure(figsize=(2,2))\r\n",
    "#展示测试集中的第一个图片\r\n",
    "print(plt.imshow(test_data0, cmap=plt.cm.binary))\r\n",
    "print('test_data0 的标签为: ' + str(test_label_0))\r\n",
    "#模型预测\r\n",
    "result = model.predict(test_dataset, batch_size=1)\r\n",
    "#打印模型预测的结果\r\n",
    "print('test_data0 预测的数值为：%d' % np.argsort(result[0][0])[0][-1])"
   ]
  }
 ],
 "metadata": {
  "kernelspec": {
   "display_name": "PaddlePaddle 2.0.0b0 (Python 3.5)",
   "language": "python",
   "name": "py35-paddle1.2.0"
  },
  "language_info": {
   "codemirror_mode": {
    "name": "ipython",
    "version": 3
   },
   "file_extension": ".py",
   "mimetype": "text/x-python",
   "name": "python",
   "nbconvert_exporter": "python",
   "pygments_lexer": "ipython3",
   "version": "3.7.4"
  }
 },
 "nbformat": 4,
 "nbformat_minor": 1
}
