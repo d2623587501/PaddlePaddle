{
 "cells": [
  {
   "cell_type": "code",
   "execution_count": null,
   "metadata": {
    "collapsed": false
   },
   "outputs": [],
   "source": [
    "#voc格式目标检测数据\r\n",
    "#!unzip data/data76481/VOC2008.zip -d masks"
   ]
  },
  {
   "cell_type": "code",
   "execution_count": 1,
   "metadata": {
    "collapsed": false
   },
   "outputs": [],
   "source": [
    "# 准备一些可能用到的工具库\r\n",
    "import xml.etree.cElementTree as ET\r\n",
    "import os\r\n",
    "import cv2\r\n",
    "import numpy as np\r\n",
    "import matplotlib.pyplot as plt\r\n",
    "import matplotlib.patches as patches\r\n",
    "import math\r\n",
    "import paddle.fluid as fluid\r\n",
    "import time\r\n",
    "import random"
   ]
  },
  {
   "cell_type": "markdown",
   "metadata": {
    "collapsed": false
   },
   "source": [
    "# 通过paddlex划分数据集"
   ]
  },
  {
   "cell_type": "code",
   "execution_count": 2,
   "metadata": {
    "collapsed": false
   },
   "outputs": [
    {
     "name": "stdout",
     "output_type": "stream",
     "text": [
      "Looking in indexes: https://mirror.baidu.com/pypi/simple/\n",
      "Collecting paddlex\n",
      "\u001b[?25l  Downloading https://mirror.baidu.com/pypi/packages/02/a4/90f3f1f997b65952d9517c74a3f672ba83721c124a481bc0cdc295e8adbc/paddlex-1.3.7-py3-none-any.whl (514kB)\n",
      "\u001b[K     |████████████████████████████████| 522kB 14.3MB/s eta 0:00:01\n",
      "\u001b[?25hCollecting shapely>=1.7.0 (from paddlex)\n",
      "\u001b[?25l  Downloading https://mirror.baidu.com/pypi/packages/98/f8/db4d3426a1aba9d5dfcc83ed5a3e2935d2b1deb73d350642931791a61c37/Shapely-1.7.1-cp37-cp37m-manylinux1_x86_64.whl (1.0MB)\n",
      "\u001b[K     |████████████████████████████████| 1.0MB 14.3MB/s eta 0:00:01\n",
      "\u001b[?25hRequirement already satisfied: opencv-python in /opt/conda/envs/python35-paddle120-env/lib/python3.7/site-packages (from paddlex) (4.1.1.26)\n",
      "Requirement already satisfied: psutil in /opt/conda/envs/python35-paddle120-env/lib/python3.7/site-packages (from paddlex) (5.7.2)\n",
      "Requirement already satisfied: flask-cors in /opt/conda/envs/python35-paddle120-env/lib/python3.7/site-packages (from paddlex) (3.0.8)\n",
      "Requirement already satisfied: sklearn in /opt/conda/envs/python35-paddle120-env/lib/python3.7/site-packages (from paddlex) (0.0)\n",
      "Requirement already satisfied: pyyaml in /opt/conda/envs/python35-paddle120-env/lib/python3.7/site-packages (from paddlex) (5.1.2)\n",
      "Requirement already satisfied: visualdl>=2.0.0 in /opt/conda/envs/python35-paddle120-env/lib/python3.7/site-packages (from paddlex) (2.1.1)\n",
      "Collecting paddleslim==1.1.1 (from paddlex)\n",
      "\u001b[?25l  Downloading https://mirror.baidu.com/pypi/packages/d1/77/e257227bed9a70ff0d35a4a3c4e70ac2d2362c803834c4c52018f7c4b762/paddleslim-1.1.1-py2.py3-none-any.whl (145kB)\n",
      "\u001b[K     |████████████████████████████████| 153kB 20.0MB/s eta 0:00:01\n",
      "\u001b[?25hRequirement already satisfied: colorama in /opt/conda/envs/python35-paddle120-env/lib/python3.7/site-packages (from paddlex) (0.4.4)\n",
      "Requirement already satisfied: tqdm in /opt/conda/envs/python35-paddle120-env/lib/python3.7/site-packages (from paddlex) (4.36.1)\n",
      "Collecting xlwt (from paddlex)\n",
      "\u001b[?25l  Downloading https://mirror.baidu.com/pypi/packages/44/48/def306413b25c3d01753603b1a222a011b8621aed27cd7f89cbc27e6b0f4/xlwt-1.3.0-py2.py3-none-any.whl (99kB)\n",
      "\u001b[K     |████████████████████████████████| 102kB 25.9MB/s ta 0:00:01\n",
      "\u001b[?25hCollecting pycocotools; platform_system != \"Windows\" (from paddlex)\n",
      "  Downloading https://mirror.baidu.com/pypi/packages/de/df/056875d697c45182ed6d2ae21f62015896fdb841906fe48e7268e791c467/pycocotools-2.0.2.tar.gz\n",
      "Requirement already satisfied: numpy>=1.14.5 in /opt/conda/envs/python35-paddle120-env/lib/python3.7/site-packages (from opencv-python->paddlex) (1.16.4)\n",
      "Requirement already satisfied: Flask>=0.9 in /opt/conda/envs/python35-paddle120-env/lib/python3.7/site-packages (from flask-cors->paddlex) (1.1.1)\n",
      "Requirement already satisfied: Six in /opt/conda/envs/python35-paddle120-env/lib/python3.7/site-packages (from flask-cors->paddlex) (1.15.0)\n",
      "Requirement already satisfied: scikit-learn in /opt/conda/envs/python35-paddle120-env/lib/python3.7/site-packages (from sklearn->paddlex) (0.22.1)\n",
      "Requirement already satisfied: Pillow>=7.0.0 in /opt/conda/envs/python35-paddle120-env/lib/python3.7/site-packages (from visualdl>=2.0.0->paddlex) (7.1.2)\n",
      "Requirement already satisfied: pre-commit in /opt/conda/envs/python35-paddle120-env/lib/python3.7/site-packages (from visualdl>=2.0.0->paddlex) (1.21.0)\n",
      "Requirement already satisfied: flake8>=3.7.9 in /opt/conda/envs/python35-paddle120-env/lib/python3.7/site-packages (from visualdl>=2.0.0->paddlex) (3.8.2)\n",
      "Requirement already satisfied: bce-python-sdk in /opt/conda/envs/python35-paddle120-env/lib/python3.7/site-packages (from visualdl>=2.0.0->paddlex) (0.8.53)\n",
      "Requirement already satisfied: requests in /opt/conda/envs/python35-paddle120-env/lib/python3.7/site-packages (from visualdl>=2.0.0->paddlex) (2.22.0)\n",
      "Requirement already satisfied: Flask-Babel>=1.0.0 in /opt/conda/envs/python35-paddle120-env/lib/python3.7/site-packages (from visualdl>=2.0.0->paddlex) (1.0.0)\n",
      "Requirement already satisfied: shellcheck-py in /opt/conda/envs/python35-paddle120-env/lib/python3.7/site-packages (from visualdl>=2.0.0->paddlex) (0.7.1.1)\n",
      "Requirement already satisfied: protobuf>=3.11.0 in /opt/conda/envs/python35-paddle120-env/lib/python3.7/site-packages (from visualdl>=2.0.0->paddlex) (3.14.0)\n",
      "Requirement already satisfied: pyzmq in /opt/conda/envs/python35-paddle120-env/lib/python3.7/site-packages (from paddleslim==1.1.1->paddlex) (18.1.1)\n",
      "Requirement already satisfied: setuptools>=18.0 in /opt/conda/envs/python35-paddle120-env/lib/python3.7/site-packages (from pycocotools; platform_system != \"Windows\"->paddlex) (41.4.0)\n",
      "Requirement already satisfied: cython>=0.27.3 in /opt/conda/envs/python35-paddle120-env/lib/python3.7/site-packages (from pycocotools; platform_system != \"Windows\"->paddlex) (0.29)\n",
      "Requirement already satisfied: matplotlib>=2.1.0 in /opt/conda/envs/python35-paddle120-env/lib/python3.7/site-packages (from pycocotools; platform_system != \"Windows\"->paddlex) (2.2.3)\n",
      "Requirement already satisfied: itsdangerous>=0.24 in /opt/conda/envs/python35-paddle120-env/lib/python3.7/site-packages (from Flask>=0.9->flask-cors->paddlex) (1.1.0)\n",
      "Requirement already satisfied: Jinja2>=2.10.1 in /opt/conda/envs/python35-paddle120-env/lib/python3.7/site-packages (from Flask>=0.9->flask-cors->paddlex) (2.10.1)\n",
      "Requirement already satisfied: click>=5.1 in /opt/conda/envs/python35-paddle120-env/lib/python3.7/site-packages (from Flask>=0.9->flask-cors->paddlex) (7.0)\n",
      "Requirement already satisfied: Werkzeug>=0.15 in /opt/conda/envs/python35-paddle120-env/lib/python3.7/site-packages (from Flask>=0.9->flask-cors->paddlex) (0.16.0)\n",
      "Requirement already satisfied: joblib>=0.11 in /opt/conda/envs/python35-paddle120-env/lib/python3.7/site-packages (from scikit-learn->sklearn->paddlex) (0.14.1)\n",
      "Requirement already satisfied: scipy>=0.17.0 in /opt/conda/envs/python35-paddle120-env/lib/python3.7/site-packages (from scikit-learn->sklearn->paddlex) (1.3.0)\n",
      "Requirement already satisfied: aspy.yaml in /opt/conda/envs/python35-paddle120-env/lib/python3.7/site-packages (from pre-commit->visualdl>=2.0.0->paddlex) (1.3.0)\n",
      "Requirement already satisfied: toml in /opt/conda/envs/python35-paddle120-env/lib/python3.7/site-packages (from pre-commit->visualdl>=2.0.0->paddlex) (0.10.0)\n",
      "Requirement already satisfied: nodeenv>=0.11.1 in /opt/conda/envs/python35-paddle120-env/lib/python3.7/site-packages (from pre-commit->visualdl>=2.0.0->paddlex) (1.3.4)\n",
      "Requirement already satisfied: identify>=1.0.0 in /opt/conda/envs/python35-paddle120-env/lib/python3.7/site-packages (from pre-commit->visualdl>=2.0.0->paddlex) (1.4.10)\n",
      "Requirement already satisfied: importlib-metadata; python_version < \"3.8\" in /opt/conda/envs/python35-paddle120-env/lib/python3.7/site-packages (from pre-commit->visualdl>=2.0.0->paddlex) (0.23)\n",
      "Requirement already satisfied: virtualenv>=15.2 in /opt/conda/envs/python35-paddle120-env/lib/python3.7/site-packages (from pre-commit->visualdl>=2.0.0->paddlex) (16.7.9)\n",
      "Requirement already satisfied: cfgv>=2.0.0 in /opt/conda/envs/python35-paddle120-env/lib/python3.7/site-packages (from pre-commit->visualdl>=2.0.0->paddlex) (2.0.1)\n",
      "Requirement already satisfied: pycodestyle<2.7.0,>=2.6.0a1 in /opt/conda/envs/python35-paddle120-env/lib/python3.7/site-packages (from flake8>=3.7.9->visualdl>=2.0.0->paddlex) (2.6.0)\n",
      "Requirement already satisfied: pyflakes<2.3.0,>=2.2.0 in /opt/conda/envs/python35-paddle120-env/lib/python3.7/site-packages (from flake8>=3.7.9->visualdl>=2.0.0->paddlex) (2.2.0)\n",
      "Requirement already satisfied: mccabe<0.7.0,>=0.6.0 in /opt/conda/envs/python35-paddle120-env/lib/python3.7/site-packages (from flake8>=3.7.9->visualdl>=2.0.0->paddlex) (0.6.1)\n",
      "Requirement already satisfied: pycryptodome>=3.8.0 in /opt/conda/envs/python35-paddle120-env/lib/python3.7/site-packages (from bce-python-sdk->visualdl>=2.0.0->paddlex) (3.9.9)\n",
      "Requirement already satisfied: future>=0.6.0 in /opt/conda/envs/python35-paddle120-env/lib/python3.7/site-packages (from bce-python-sdk->visualdl>=2.0.0->paddlex) (0.18.0)\n",
      "Requirement already satisfied: urllib3!=1.25.0,!=1.25.1,<1.26,>=1.21.1 in /opt/conda/envs/python35-paddle120-env/lib/python3.7/site-packages (from requests->visualdl>=2.0.0->paddlex) (1.25.6)\n",
      "Requirement already satisfied: idna<2.9,>=2.5 in /opt/conda/envs/python35-paddle120-env/lib/python3.7/site-packages (from requests->visualdl>=2.0.0->paddlex) (2.8)\n",
      "Requirement already satisfied: certifi>=2017.4.17 in /opt/conda/envs/python35-paddle120-env/lib/python3.7/site-packages (from requests->visualdl>=2.0.0->paddlex) (2019.9.11)\n",
      "Requirement already satisfied: chardet<3.1.0,>=3.0.2 in /opt/conda/envs/python35-paddle120-env/lib/python3.7/site-packages (from requests->visualdl>=2.0.0->paddlex) (3.0.4)\n",
      "Requirement already satisfied: pytz in /opt/conda/envs/python35-paddle120-env/lib/python3.7/site-packages (from Flask-Babel>=1.0.0->visualdl>=2.0.0->paddlex) (2019.3)\n",
      "Requirement already satisfied: Babel>=2.3 in /opt/conda/envs/python35-paddle120-env/lib/python3.7/site-packages (from Flask-Babel>=1.0.0->visualdl>=2.0.0->paddlex) (2.8.0)\n",
      "Requirement already satisfied: pyparsing!=2.0.4,!=2.1.2,!=2.1.6,>=2.0.1 in /opt/conda/envs/python35-paddle120-env/lib/python3.7/site-packages (from matplotlib>=2.1.0->pycocotools; platform_system != \"Windows\"->paddlex) (2.4.2)\n",
      "Requirement already satisfied: kiwisolver>=1.0.1 in /opt/conda/envs/python35-paddle120-env/lib/python3.7/site-packages (from matplotlib>=2.1.0->pycocotools; platform_system != \"Windows\"->paddlex) (1.1.0)\n",
      "Requirement already satisfied: python-dateutil>=2.1 in /opt/conda/envs/python35-paddle120-env/lib/python3.7/site-packages (from matplotlib>=2.1.0->pycocotools; platform_system != \"Windows\"->paddlex) (2.8.0)\n",
      "Requirement already satisfied: cycler>=0.10 in /opt/conda/envs/python35-paddle120-env/lib/python3.7/site-packages (from matplotlib>=2.1.0->pycocotools; platform_system != \"Windows\"->paddlex) (0.10.0)\n",
      "Requirement already satisfied: MarkupSafe>=0.23 in /opt/conda/envs/python35-paddle120-env/lib/python3.7/site-packages (from Jinja2>=2.10.1->Flask>=0.9->flask-cors->paddlex) (1.1.1)\n",
      "Requirement already satisfied: zipp>=0.5 in /opt/conda/envs/python35-paddle120-env/lib/python3.7/site-packages (from importlib-metadata; python_version < \"3.8\"->pre-commit->visualdl>=2.0.0->paddlex) (0.6.0)\n",
      "Requirement already satisfied: more-itertools in /opt/conda/envs/python35-paddle120-env/lib/python3.7/site-packages (from zipp>=0.5->importlib-metadata; python_version < \"3.8\"->pre-commit->visualdl>=2.0.0->paddlex) (7.2.0)\n",
      "Building wheels for collected packages: pycocotools\n",
      "  Building wheel for pycocotools (setup.py) ... \u001b[?25ldone\n",
      "\u001b[?25h  Created wheel for pycocotools: filename=pycocotools-2.0.2-cp37-cp37m-linux_x86_64.whl size=278370 sha256=b394a1f4d5560e3342cc6b47338e669382533a34c7f8b486862626d5f4c0d545\n",
      "  Stored in directory: /home/aistudio/.cache/pip/wheels/fb/44/67/8baa69040569b1edbd7776ec6f82c387663e724908aaa60963\n",
      "Successfully built pycocotools\n",
      "Installing collected packages: shapely, paddleslim, xlwt, pycocotools, paddlex\n",
      "Successfully installed paddleslim-1.1.1 paddlex-1.3.7 pycocotools-2.0.2 shapely-1.7.1 xlwt-1.3.0\n"
     ]
    }
   ],
   "source": [
    "!pip install paddlex"
   ]
  },
  {
   "cell_type": "code",
   "execution_count": 4,
   "metadata": {
    "collapsed": false
   },
   "outputs": [
    {
     "name": "stdout",
     "output_type": "stream",
     "text": [
      "Dataset Split Done.\u001b[0m\r\n",
      "\u001b[0mTrain samples: 85\u001b[0m\r\n",
      "\u001b[0mEval samples: 23\u001b[0m\r\n",
      "\u001b[0mTest samples: 11\u001b[0m\r\n",
      "\u001b[0mSplit files saved in masks/VOC2008\u001b[0m\r\n",
      "\u001b[0m\u001b[0m"
     ]
    }
   ],
   "source": [
    "!paddlex --split_dataset --format VOC --dataset_dir masks/VOC2008 --val_value 0.2 --test_value 0.1"
   ]
  },
  {
   "cell_type": "markdown",
   "metadata": {
    "collapsed": false
   },
   "source": [
    "# 下载PaddleDetection并部署环境，修改数据集路径"
   ]
  },
  {
   "cell_type": "code",
   "execution_count": null,
   "metadata": {
    "collapsed": false
   },
   "outputs": [
    {
     "name": "stdout",
     "output_type": "stream",
     "text": [
      "Cloning into 'PaddleDetection'...\n",
      "remote: Enumerating objects: 11219, done.\u001b[K\n",
      "remote: Counting objects: 100% (11219/11219), done.\u001b[K\n",
      "remote: Compressing objects: 100% (5914/5914), done.\u001b[K\n",
      "remote: Total 11219 (delta 8180), reused 7297 (delta 5179), pack-reused 0\u001b[K\n",
      "Receiving objects: 100% (11219/11219), 56.01 MiB | 5.09 MiB/s, done.\n",
      "Resolving deltas: 100% (8180/8180), done.\n",
      "Checking connectivity... done.\n"
     ]
    }
   ],
   "source": [
    "!git clone https://gitee.com/paddlepaddle/PaddleDetection.git"
   ]
  },
  {
   "cell_type": "code",
   "execution_count": null,
   "metadata": {
    "collapsed": false
   },
   "outputs": [],
   "source": [
    "!cd PaddleDetection && git branch release/0.5"
   ]
  },
  {
   "cell_type": "code",
   "execution_count": 5,
   "metadata": {
    "collapsed": false
   },
   "outputs": [
    {
     "name": "stdout",
     "output_type": "stream",
     "text": [
      "Looking in indexes: https://mirror.baidu.com/pypi/simple/\n",
      "Requirement already satisfied: tqdm in /opt/conda/envs/python35-paddle120-env/lib/python3.7/site-packages (from -r work/PaddleDetection/requirements.txt (line 1)) (4.36.1)\n",
      "Collecting typeguard (from -r work/PaddleDetection/requirements.txt (line 2))\n",
      "  Downloading https://mirror.baidu.com/pypi/packages/50/0f/788beaef5b73aacaae1eea11b1165fd4dec0a4c600fb2cb1611f55caf4ce/typeguard-2.11.1-py3-none-any.whl\n",
      "Requirement already satisfied: visualdl>=2.0.0b in /opt/conda/envs/python35-paddle120-env/lib/python3.7/site-packages (from -r work/PaddleDetection/requirements.txt (line 3)) (2.1.1)\n",
      "Requirement already satisfied: opencv-python in /opt/conda/envs/python35-paddle120-env/lib/python3.7/site-packages (from -r work/PaddleDetection/requirements.txt (line 4)) (4.1.1.26)\n",
      "Requirement already satisfied: PyYAML in /opt/conda/envs/python35-paddle120-env/lib/python3.7/site-packages (from -r work/PaddleDetection/requirements.txt (line 5)) (5.1.2)\n",
      "Requirement already satisfied: shapely in /opt/conda/envs/python35-paddle120-env/lib/python3.7/site-packages (from -r work/PaddleDetection/requirements.txt (line 6)) (1.7.1)\n",
      "Requirement already satisfied: Flask-Babel>=1.0.0 in /opt/conda/envs/python35-paddle120-env/lib/python3.7/site-packages (from visualdl>=2.0.0b->-r work/PaddleDetection/requirements.txt (line 3)) (1.0.0)\n",
      "Requirement already satisfied: protobuf>=3.11.0 in /opt/conda/envs/python35-paddle120-env/lib/python3.7/site-packages (from visualdl>=2.0.0b->-r work/PaddleDetection/requirements.txt (line 3)) (3.14.0)\n",
      "Requirement already satisfied: Pillow>=7.0.0 in /opt/conda/envs/python35-paddle120-env/lib/python3.7/site-packages (from visualdl>=2.0.0b->-r work/PaddleDetection/requirements.txt (line 3)) (7.1.2)\n",
      "Requirement already satisfied: bce-python-sdk in /opt/conda/envs/python35-paddle120-env/lib/python3.7/site-packages (from visualdl>=2.0.0b->-r work/PaddleDetection/requirements.txt (line 3)) (0.8.53)\n",
      "Requirement already satisfied: pre-commit in /opt/conda/envs/python35-paddle120-env/lib/python3.7/site-packages (from visualdl>=2.0.0b->-r work/PaddleDetection/requirements.txt (line 3)) (1.21.0)\n",
      "Requirement already satisfied: flake8>=3.7.9 in /opt/conda/envs/python35-paddle120-env/lib/python3.7/site-packages (from visualdl>=2.0.0b->-r work/PaddleDetection/requirements.txt (line 3)) (3.8.2)\n",
      "Requirement already satisfied: requests in /opt/conda/envs/python35-paddle120-env/lib/python3.7/site-packages (from visualdl>=2.0.0b->-r work/PaddleDetection/requirements.txt (line 3)) (2.22.0)\n",
      "Requirement already satisfied: shellcheck-py in /opt/conda/envs/python35-paddle120-env/lib/python3.7/site-packages (from visualdl>=2.0.0b->-r work/PaddleDetection/requirements.txt (line 3)) (0.7.1.1)\n",
      "Requirement already satisfied: flask>=1.1.1 in /opt/conda/envs/python35-paddle120-env/lib/python3.7/site-packages (from visualdl>=2.0.0b->-r work/PaddleDetection/requirements.txt (line 3)) (1.1.1)\n",
      "Requirement already satisfied: six>=1.14.0 in /opt/conda/envs/python35-paddle120-env/lib/python3.7/site-packages (from visualdl>=2.0.0b->-r work/PaddleDetection/requirements.txt (line 3)) (1.15.0)\n",
      "Requirement already satisfied: numpy in /opt/conda/envs/python35-paddle120-env/lib/python3.7/site-packages (from visualdl>=2.0.0b->-r work/PaddleDetection/requirements.txt (line 3)) (1.16.4)\n",
      "Requirement already satisfied: Babel>=2.3 in /opt/conda/envs/python35-paddle120-env/lib/python3.7/site-packages (from Flask-Babel>=1.0.0->visualdl>=2.0.0b->-r work/PaddleDetection/requirements.txt (line 3)) (2.8.0)\n",
      "Requirement already satisfied: pytz in /opt/conda/envs/python35-paddle120-env/lib/python3.7/site-packages (from Flask-Babel>=1.0.0->visualdl>=2.0.0b->-r work/PaddleDetection/requirements.txt (line 3)) (2019.3)\n",
      "Requirement already satisfied: Jinja2>=2.5 in /opt/conda/envs/python35-paddle120-env/lib/python3.7/site-packages (from Flask-Babel>=1.0.0->visualdl>=2.0.0b->-r work/PaddleDetection/requirements.txt (line 3)) (2.10.1)\n",
      "Requirement already satisfied: future>=0.6.0 in /opt/conda/envs/python35-paddle120-env/lib/python3.7/site-packages (from bce-python-sdk->visualdl>=2.0.0b->-r work/PaddleDetection/requirements.txt (line 3)) (0.18.0)\n",
      "Requirement already satisfied: pycryptodome>=3.8.0 in /opt/conda/envs/python35-paddle120-env/lib/python3.7/site-packages (from bce-python-sdk->visualdl>=2.0.0b->-r work/PaddleDetection/requirements.txt (line 3)) (3.9.9)\n",
      "Requirement already satisfied: virtualenv>=15.2 in /opt/conda/envs/python35-paddle120-env/lib/python3.7/site-packages (from pre-commit->visualdl>=2.0.0b->-r work/PaddleDetection/requirements.txt (line 3)) (16.7.9)\n",
      "Requirement already satisfied: identify>=1.0.0 in /opt/conda/envs/python35-paddle120-env/lib/python3.7/site-packages (from pre-commit->visualdl>=2.0.0b->-r work/PaddleDetection/requirements.txt (line 3)) (1.4.10)\n",
      "Requirement already satisfied: cfgv>=2.0.0 in /opt/conda/envs/python35-paddle120-env/lib/python3.7/site-packages (from pre-commit->visualdl>=2.0.0b->-r work/PaddleDetection/requirements.txt (line 3)) (2.0.1)\n",
      "Requirement already satisfied: toml in /opt/conda/envs/python35-paddle120-env/lib/python3.7/site-packages (from pre-commit->visualdl>=2.0.0b->-r work/PaddleDetection/requirements.txt (line 3)) (0.10.0)\n",
      "Requirement already satisfied: importlib-metadata; python_version < \"3.8\" in /opt/conda/envs/python35-paddle120-env/lib/python3.7/site-packages (from pre-commit->visualdl>=2.0.0b->-r work/PaddleDetection/requirements.txt (line 3)) (0.23)\n",
      "Requirement already satisfied: aspy.yaml in /opt/conda/envs/python35-paddle120-env/lib/python3.7/site-packages (from pre-commit->visualdl>=2.0.0b->-r work/PaddleDetection/requirements.txt (line 3)) (1.3.0)\n",
      "Requirement already satisfied: nodeenv>=0.11.1 in /opt/conda/envs/python35-paddle120-env/lib/python3.7/site-packages (from pre-commit->visualdl>=2.0.0b->-r work/PaddleDetection/requirements.txt (line 3)) (1.3.4)\n",
      "Requirement already satisfied: pycodestyle<2.7.0,>=2.6.0a1 in /opt/conda/envs/python35-paddle120-env/lib/python3.7/site-packages (from flake8>=3.7.9->visualdl>=2.0.0b->-r work/PaddleDetection/requirements.txt (line 3)) (2.6.0)\n",
      "Requirement already satisfied: pyflakes<2.3.0,>=2.2.0 in /opt/conda/envs/python35-paddle120-env/lib/python3.7/site-packages (from flake8>=3.7.9->visualdl>=2.0.0b->-r work/PaddleDetection/requirements.txt (line 3)) (2.2.0)\n",
      "Requirement already satisfied: mccabe<0.7.0,>=0.6.0 in /opt/conda/envs/python35-paddle120-env/lib/python3.7/site-packages (from flake8>=3.7.9->visualdl>=2.0.0b->-r work/PaddleDetection/requirements.txt (line 3)) (0.6.1)\n",
      "Requirement already satisfied: certifi>=2017.4.17 in /opt/conda/envs/python35-paddle120-env/lib/python3.7/site-packages (from requests->visualdl>=2.0.0b->-r work/PaddleDetection/requirements.txt (line 3)) (2019.9.11)\n",
      "Requirement already satisfied: chardet<3.1.0,>=3.0.2 in /opt/conda/envs/python35-paddle120-env/lib/python3.7/site-packages (from requests->visualdl>=2.0.0b->-r work/PaddleDetection/requirements.txt (line 3)) (3.0.4)\n",
      "Requirement already satisfied: idna<2.9,>=2.5 in /opt/conda/envs/python35-paddle120-env/lib/python3.7/site-packages (from requests->visualdl>=2.0.0b->-r work/PaddleDetection/requirements.txt (line 3)) (2.8)\n",
      "Requirement already satisfied: urllib3!=1.25.0,!=1.25.1,<1.26,>=1.21.1 in /opt/conda/envs/python35-paddle120-env/lib/python3.7/site-packages (from requests->visualdl>=2.0.0b->-r work/PaddleDetection/requirements.txt (line 3)) (1.25.6)\n",
      "Requirement already satisfied: Werkzeug>=0.15 in /opt/conda/envs/python35-paddle120-env/lib/python3.7/site-packages (from flask>=1.1.1->visualdl>=2.0.0b->-r work/PaddleDetection/requirements.txt (line 3)) (0.16.0)\n",
      "Requirement already satisfied: itsdangerous>=0.24 in /opt/conda/envs/python35-paddle120-env/lib/python3.7/site-packages (from flask>=1.1.1->visualdl>=2.0.0b->-r work/PaddleDetection/requirements.txt (line 3)) (1.1.0)\n",
      "Requirement already satisfied: click>=5.1 in /opt/conda/envs/python35-paddle120-env/lib/python3.7/site-packages (from flask>=1.1.1->visualdl>=2.0.0b->-r work/PaddleDetection/requirements.txt (line 3)) (7.0)\n",
      "Requirement already satisfied: MarkupSafe>=0.23 in /opt/conda/envs/python35-paddle120-env/lib/python3.7/site-packages (from Jinja2>=2.5->Flask-Babel>=1.0.0->visualdl>=2.0.0b->-r work/PaddleDetection/requirements.txt (line 3)) (1.1.1)\n",
      "Requirement already satisfied: zipp>=0.5 in /opt/conda/envs/python35-paddle120-env/lib/python3.7/site-packages (from importlib-metadata; python_version < \"3.8\"->pre-commit->visualdl>=2.0.0b->-r work/PaddleDetection/requirements.txt (line 3)) (0.6.0)\n",
      "Requirement already satisfied: more-itertools in /opt/conda/envs/python35-paddle120-env/lib/python3.7/site-packages (from zipp>=0.5->importlib-metadata; python_version < \"3.8\"->pre-commit->visualdl>=2.0.0b->-r work/PaddleDetection/requirements.txt (line 3)) (7.2.0)\n",
      "Installing collected packages: typeguard\n",
      "Successfully installed typeguard-2.11.1\n"
     ]
    }
   ],
   "source": [
    "#配置PaddleDetection环境\r\n",
    "!pip install -r PaddleDetection/requirements.txt"
   ]
  },
  {
   "cell_type": "code",
   "execution_count": null,
   "metadata": {
    "collapsed": false
   },
   "outputs": [],
   "source": [
    "# 把PaddleDetection送到work目录下，可以持久保存\r\n",
    "!mv PaddleDetection work/"
   ]
  },
  {
   "cell_type": "code",
   "execution_count": null,
   "metadata": {
    "collapsed": false
   },
   "outputs": [],
   "source": [
    "#将数据集转到PaddleDetection/dataset，专门存放和处理数据集的文件\r\n",
    "!cp -r masks/VOC2008 work/PaddleDetection/dataset/"
   ]
  },
  {
   "cell_type": "code",
   "execution_count": 7,
   "metadata": {
    "collapsed": false
   },
   "outputs": [
    {
     "name": "stdout",
     "output_type": "stream",
     "text": [
      "/home/aistudio/work/PaddleDetection\n"
     ]
    }
   ],
   "source": [
    "%cd work/PaddleDetection"
   ]
  },
  {
   "cell_type": "code",
   "execution_count": null,
   "metadata": {
    "collapsed": false
   },
   "outputs": [],
   "source": [
    "# 调整下标注文件命名，与PaddleDetection默认的一致（处理成相同文件名）\r\n",
    "!mv dataset/VOC2008/labels.txt dataset/VOC2008/label_list.txt"
   ]
  },
  {
   "cell_type": "markdown",
   "metadata": {
    "collapsed": false
   },
   "source": [
    "# 修改模型文件ssd_vgg16_300_voc.yml\n",
    "地址：work/PaddleDetection/configs/ssd/ssd_vgg16_300_voc.yml\n",
    "\n",
    "新手所需修改部分：（修改后可以跑通，若想提高精度需要细调）\n",
    "```\n",
    "max_iters: 132\n",
    "# max_iters=训练集格式*迭代次数/batch_size\n",
    "```\n",
    "```\n",
    "num_classes: 3\n",
    "# 20(label_class) + 1(background)\n",
    "```\n",
    "TrainReader、EvalReader、TestReader中的数据集地址\n",
    "```\n",
    "dataset_dir: dataset/VOC2008\n",
    "anno_path: train_list.txt\n",
    "use_default_label: false\n",
    "```\n",
    "```\n",
    "anno_path: val_list.txt\n",
    "dataset_dir: dataset/VOC2008\n",
    "use_default_label: false\n",
    "```\n",
    "```\n",
    "anno_path: dataset/VOC2008/test_list.txt\n",
    "use_default_label: false\n",
    "```\n",
    "\n",
    "全部代码（可直接复制，建议去官方文档看看参数含义）\n",
    "\n",
    "官方文档：[https://paddledetection.readthedocs.io/](http://)\n",
    "\n",
    "github链接：[https://github.com/PaddlePaddle/PaddleDetection](http://)\n",
    "```\n",
    "architecture: SSD\n",
    "use_gpu: true\n",
    "max_iters: 132\n",
    "# max_iters=训练集格式*迭代次数/batch_size\n",
    "snapshot_iter: 10000\n",
    "log_iter: 10\n",
    "metric: VOC\n",
    "map_type: 11point\n",
    "pretrain_weights: https://paddle-imagenet-models-name.bj.bcebos.com/VGG16_caffe_pretrained.tar\n",
    "save_dir: output\n",
    "weights: output/ssd_vgg16_300_voc/model_final\n",
    "# 20(label_class) + 1(background)\n",
    "num_classes: 3\n",
    "\n",
    "SSD:\n",
    "  backbone: VGG\n",
    "  multi_box_head: MultiBoxHead\n",
    "  output_decoder:\n",
    "    background_label: 0\n",
    "    keep_top_k: 200\n",
    "    nms_eta: 1.0\n",
    "    nms_threshold: 0.45\n",
    "    nms_top_k: 400\n",
    "    score_threshold: 0.01\n",
    "\n",
    "VGG:\n",
    "  depth: 16\n",
    "  with_extra_blocks: true\n",
    "  normalizations: [20., -1, -1, -1, -1, -1]\n",
    "\n",
    "MultiBoxHead:\n",
    "  base_size: 300\n",
    "  aspect_ratios: [[2.], [2., 3.], [2., 3.], [2., 3.], [2.], [2.]]\n",
    "  min_ratio: 20\n",
    "  max_ratio: 90\n",
    "  min_sizes: [30.0, 60.0, 111.0, 162.0, 213.0, 264.0]\n",
    "  max_sizes: [60.0, 111.0, 162.0, 213.0, 264.0, 315.0]\n",
    "  steps: [8, 16, 32, 64, 100, 300]\n",
    "  offset: 0.5\n",
    "  flip: true\n",
    "  min_max_aspect_ratios_order: true\n",
    "  kernel_size: 3\n",
    "  pad: 1\n",
    "\n",
    "LearningRate:\n",
    "  base_lr: 0.001\n",
    "  schedulers:\n",
    "  - !PiecewiseDecay\n",
    "    gamma: 0.1\n",
    "    milestones: [80000, 100000]\n",
    "\n",
    "OptimizerBuilder:\n",
    "  optimizer:\n",
    "    momentum: 0.9\n",
    "    type: Momentum\n",
    "  regularizer:\n",
    "    factor: 0.0005\n",
    "    type: L2\n",
    "\n",
    "TrainReader:\n",
    "  inputs_def:\n",
    "    image_shape: [3, 300, 300]\n",
    "    fields: ['image', 'gt_bbox', 'gt_class']\n",
    "  dataset:\n",
    "    !VOCDataSet\n",
    "    dataset_dir: dataset/VOC2008\n",
    "    anno_path: train_list.txt\n",
    "    use_default_label: false\n",
    "  sample_transforms:\n",
    "  - !DecodeImage\n",
    "    to_rgb: true\n",
    "  - !RandomDistort\n",
    "    brightness_lower: 0.875\n",
    "    brightness_upper: 1.125\n",
    "    is_order: true\n",
    "  - !RandomExpand\n",
    "    fill_value: [104, 117, 123]\n",
    "  - !RandomCrop\n",
    "    allow_no_crop: true\n",
    "  - !NormalizeBox {}\n",
    "  - !ResizeImage\n",
    "    interp: 1\n",
    "    target_size: 300\n",
    "    use_cv2: false\n",
    "  - !RandomFlipImage\n",
    "    is_normalized: true\n",
    "  - !Permute\n",
    "    to_bgr: false\n",
    "  - !NormalizeImage\n",
    "    is_scale: false\n",
    "    mean: [104, 117, 123]\n",
    "    std: [1, 1, 1]\n",
    "  batch_size: 8\n",
    "  shuffle: true\n",
    "  worker_num: 8\n",
    "  bufsize: 16\n",
    "  use_process: true\n",
    "\n",
    "EvalReader:\n",
    "  inputs_def:\n",
    "    image_shape: [3, 300, 300]\n",
    "    fields: ['image', 'gt_bbox', 'gt_class', 'im_shape', 'im_id', 'is_difficult']\n",
    "  dataset:\n",
    "    !VOCDataSet\n",
    "    anno_path: val_list.txt\n",
    "    dataset_dir: dataset/VOC2008\n",
    "    use_default_label: false\n",
    "  sample_transforms:\n",
    "  - !DecodeImage\n",
    "    to_rgb: true\n",
    "    with_mixup: false\n",
    "  - !NormalizeBox {}\n",
    "  - !ResizeImage\n",
    "    interp: 1\n",
    "    target_size: 300\n",
    "    use_cv2: false\n",
    "  - !Permute\n",
    "    to_bgr: false\n",
    "  - !NormalizeImage\n",
    "    is_scale: false\n",
    "    mean: [104, 117, 123]\n",
    "    std: [1, 1, 1]\n",
    "  batch_size: 32\n",
    "  worker_num: 8\n",
    "  bufsize: 16\n",
    "\n",
    "TestReader:\n",
    "  inputs_def:\n",
    "    image_shape: [3,300,300]\n",
    "    fields: ['image', 'im_id', 'im_shape']\n",
    "  dataset:\n",
    "    !ImageFolder\n",
    "    anno_path: dataset/VOC2008/test_list.txt\n",
    "    use_default_label: false\n",
    "  sample_transforms:\n",
    "  - !DecodeImage\n",
    "    to_rgb: true\n",
    "    with_mixup: false\n",
    "  - !ResizeImage\n",
    "    interp: 1\n",
    "    max_size: 0\n",
    "    target_size: 300\n",
    "    use_cv2: true\n",
    "  - !Permute\n",
    "    to_bgr: false\n",
    "  - !NormalizeImage\n",
    "    is_scale: false\n",
    "    mean: [104, 117, 123]\n",
    "    std: [1, 1, 1]\n",
    "  batch_size: 1\n",
    "```"
   ]
  },
  {
   "cell_type": "markdown",
   "metadata": {
    "collapsed": false
   },
   "source": [
    "# 模型训练"
   ]
  },
  {
   "cell_type": "code",
   "execution_count": 9,
   "metadata": {
    "collapsed": false
   },
   "outputs": [
    {
     "name": "stdout",
     "output_type": "stream",
     "text": [
      "W0329 13:51:28.574571  1532 device_context.cc:252] Please NOTE: device: 0, CUDA Capability: 70, Driver API Version: 11.0, Runtime API Version: 9.0\n",
      "W0329 13:51:28.580085  1532 device_context.cc:260] device: 0, cuDNN Version: 7.6.\n",
      "2021-03-29 13:51:30,794-WARNING: /home/aistudio/.cache/paddle/weights/VGG16_caffe_pretrained.pdparams not found, try to load model file saved with [ save_params, save_persistables, save_vars ]\n",
      "/opt/conda/envs/python35-paddle120-env/lib/python3.7/site-packages/paddle/fluid/io.py:1998: UserWarning: This list is not set, Because of Paramerter not found in program. There are: fc8_weights fc8_biases\n",
      "  format(\" \".join(unused_para_list)))\n",
      "2021-03-29 13:51:39,256-INFO: iter: 0, lr: 0.001000, 'loss': '19.797258', eta: 0:01:33, batch_cost: 0.08786 sec, ips: 91.05483 images/sec\n",
      "[INFO 2021-03-29 13:51:39,256 train.py:286] iter: 0, lr: 0.001000, 'loss': '19.797258', eta: 0:01:33, batch_cost: 0.08786 sec, ips: 91.05483 images/sec\n",
      "2021-03-29 13:51:40,831-INFO: iter: 10, lr: 0.001000, 'loss': '9.144595', eta: 0:05:17, batch_cost: 0.30212 sec, ips: 26.47964 images/sec\n",
      "[INFO 2021-03-29 13:51:40,831 train.py:286] iter: 10, lr: 0.001000, 'loss': '9.144595', eta: 0:05:17, batch_cost: 0.30212 sec, ips: 26.47964 images/sec\n",
      "2021-03-29 13:51:42,962-INFO: iter: 20, lr: 0.001000, 'loss': '9.261915', eta: 0:03:23, batch_cost: 0.19538 sec, ips: 40.94508 images/sec\n",
      "[INFO 2021-03-29 13:51:42,962 train.py:286] iter: 20, lr: 0.001000, 'loss': '9.261915', eta: 0:03:23, batch_cost: 0.19538 sec, ips: 40.94508 images/sec\n",
      "2021-03-29 13:51:44,448-INFO: iter: 30, lr: 0.001000, 'loss': '9.641550', eta: 0:02:44, batch_cost: 0.15902 sec, ips: 50.30865 images/sec\n",
      "[INFO 2021-03-29 13:51:44,448 train.py:286] iter: 30, lr: 0.001000, 'loss': '9.641550', eta: 0:02:44, batch_cost: 0.15902 sec, ips: 50.30865 images/sec\n",
      "2021-03-29 13:51:46,045-INFO: iter: 40, lr: 0.001000, 'loss': '7.853000', eta: 0:02:43, batch_cost: 0.16040 sec, ips: 49.87621 images/sec\n",
      "[INFO 2021-03-29 13:51:46,045 train.py:286] iter: 40, lr: 0.001000, 'loss': '7.853000', eta: 0:02:43, batch_cost: 0.16040 sec, ips: 49.87621 images/sec\n",
      "2021-03-29 13:51:47,680-INFO: iter: 50, lr: 0.001000, 'loss': '6.896059', eta: 0:02:51, batch_cost: 0.16979 sec, ips: 47.11656 images/sec\n",
      "[INFO 2021-03-29 13:51:47,680 train.py:286] iter: 50, lr: 0.001000, 'loss': '6.896059', eta: 0:02:51, batch_cost: 0.16979 sec, ips: 47.11656 images/sec\n",
      "2021-03-29 13:51:49,049-INFO: iter: 60, lr: 0.001000, 'loss': '5.269959', eta: 0:02:20, batch_cost: 0.13999 sec, ips: 57.14649 images/sec\n",
      "[INFO 2021-03-29 13:51:49,049 train.py:286] iter: 60, lr: 0.001000, 'loss': '5.269959', eta: 0:02:20, batch_cost: 0.13999 sec, ips: 57.14649 images/sec\n",
      "2021-03-29 13:51:50,545-INFO: iter: 70, lr: 0.001000, 'loss': '5.005513', eta: 0:02:18, batch_cost: 0.13948 sec, ips: 57.35598 images/sec\n",
      "[INFO 2021-03-29 13:51:50,545 train.py:286] iter: 70, lr: 0.001000, 'loss': '5.005513', eta: 0:02:18, batch_cost: 0.13948 sec, ips: 57.35598 images/sec\n",
      "2021-03-29 13:51:51,937-INFO: iter: 80, lr: 0.001000, 'loss': '4.266465', eta: 0:02:25, batch_cost: 0.14829 sec, ips: 53.94804 images/sec\n",
      "[INFO 2021-03-29 13:51:51,937 train.py:286] iter: 80, lr: 0.001000, 'loss': '4.266465', eta: 0:02:25, batch_cost: 0.14829 sec, ips: 53.94804 images/sec\n",
      "2021-03-29 13:51:53,420-INFO: iter: 90, lr: 0.001000, 'loss': '4.156650', eta: 0:02:24, batch_cost: 0.14823 sec, ips: 53.97067 images/sec\n",
      "[INFO 2021-03-29 13:51:53,420 train.py:286] iter: 90, lr: 0.001000, 'loss': '4.156650', eta: 0:02:24, batch_cost: 0.14823 sec, ips: 53.97067 images/sec\n",
      "2021-03-29 13:51:54,880-INFO: iter: 100, lr: 0.001000, 'loss': '4.233464', eta: 0:02:20, batch_cost: 0.14600 sec, ips: 54.79402 images/sec\n",
      "[INFO 2021-03-29 13:51:54,880 train.py:286] iter: 100, lr: 0.001000, 'loss': '4.233464', eta: 0:02:20, batch_cost: 0.14600 sec, ips: 54.79402 images/sec\n",
      "2021-03-29 13:51:56,292-INFO: iter: 110, lr: 0.001000, 'loss': '4.586375', eta: 0:02:14, batch_cost: 0.14120 sec, ips: 56.65550 images/sec\n",
      "[INFO 2021-03-29 13:51:56,292 train.py:286] iter: 110, lr: 0.001000, 'loss': '4.586375', eta: 0:02:14, batch_cost: 0.14120 sec, ips: 56.65550 images/sec\n",
      "2021-03-29 13:51:57,750-INFO: iter: 120, lr: 0.001000, 'loss': '4.176403', eta: 0:02:21, batch_cost: 0.15067 sec, ips: 53.09754 images/sec\n",
      "[INFO 2021-03-29 13:51:57,750 train.py:286] iter: 120, lr: 0.001000, 'loss': '4.176403', eta: 0:02:21, batch_cost: 0.15067 sec, ips: 53.09754 images/sec\n",
      "2021-03-29 13:51:59,133-INFO: iter: 130, lr: 0.001000, 'loss': '4.167346', eta: 0:02:04, batch_cost: 0.13344 sec, ips: 59.95279 images/sec\n",
      "[INFO 2021-03-29 13:51:59,133 train.py:286] iter: 130, lr: 0.001000, 'loss': '4.167346', eta: 0:02:04, batch_cost: 0.13344 sec, ips: 59.95279 images/sec\n",
      "2021-03-29 13:52:00,546-INFO: iter: 140, lr: 0.001000, 'loss': '4.425539', eta: 0:02:11, batch_cost: 0.14279 sec, ips: 56.02654 images/sec\n",
      "[INFO 2021-03-29 13:52:00,546 train.py:286] iter: 140, lr: 0.001000, 'loss': '4.425539', eta: 0:02:11, batch_cost: 0.14279 sec, ips: 56.02654 images/sec\n",
      "2021-03-29 13:52:02,046-INFO: iter: 150, lr: 0.001000, 'loss': '3.818918', eta: 0:02:08, batch_cost: 0.14078 sec, ips: 56.82738 images/sec\n",
      "[INFO 2021-03-29 13:52:02,046 train.py:286] iter: 150, lr: 0.001000, 'loss': '3.818918', eta: 0:02:08, batch_cost: 0.14078 sec, ips: 56.82738 images/sec\n",
      "2021-03-29 13:52:03,547-INFO: iter: 160, lr: 0.001000, 'loss': '4.002277', eta: 0:02:14, batch_cost: 0.14932 sec, ips: 53.57771 images/sec\n",
      "[INFO 2021-03-29 13:52:03,547 train.py:286] iter: 160, lr: 0.001000, 'loss': '4.002277', eta: 0:02:14, batch_cost: 0.14932 sec, ips: 53.57771 images/sec\n",
      "2021-03-29 13:52:04,845-INFO: iter: 170, lr: 0.001000, 'loss': '3.598434', eta: 0:01:55, batch_cost: 0.12983 sec, ips: 61.61934 images/sec\n",
      "[INFO 2021-03-29 13:52:04,845 train.py:286] iter: 170, lr: 0.001000, 'loss': '3.598434', eta: 0:01:55, batch_cost: 0.12983 sec, ips: 61.61934 images/sec\n",
      "2021-03-29 13:52:06,245-INFO: iter: 180, lr: 0.001000, 'loss': '3.856131', eta: 0:02:00, batch_cost: 0.13615 sec, ips: 58.75976 images/sec\n",
      "[INFO 2021-03-29 13:52:06,245 train.py:286] iter: 180, lr: 0.001000, 'loss': '3.856131', eta: 0:02:00, batch_cost: 0.13615 sec, ips: 58.75976 images/sec\n",
      "2021-03-29 13:52:07,474-INFO: iter: 190, lr: 0.001000, 'loss': '4.341296', eta: 0:01:57, batch_cost: 0.13519 sec, ips: 59.17573 images/sec\n",
      "[INFO 2021-03-29 13:52:07,474 train.py:286] iter: 190, lr: 0.001000, 'loss': '4.341296', eta: 0:01:57, batch_cost: 0.13519 sec, ips: 59.17573 images/sec\n",
      "2021-03-29 13:52:08,802-INFO: iter: 200, lr: 0.001000, 'loss': '3.640749', eta: 0:01:54, batch_cost: 0.13295 sec, ips: 60.17192 images/sec\n",
      "[INFO 2021-03-29 13:52:08,802 train.py:286] iter: 200, lr: 0.001000, 'loss': '3.640749', eta: 0:01:54, batch_cost: 0.13295 sec, ips: 60.17192 images/sec\n",
      "2021-03-29 13:52:10,177-INFO: iter: 210, lr: 0.001000, 'loss': '3.468825', eta: 0:01:56, batch_cost: 0.13730 sec, ips: 58.26656 images/sec\n",
      "[INFO 2021-03-29 13:52:10,177 train.py:286] iter: 210, lr: 0.001000, 'loss': '3.468825', eta: 0:01:56, batch_cost: 0.13730 sec, ips: 58.26656 images/sec\n",
      "2021-03-29 13:52:11,507-INFO: iter: 220, lr: 0.001000, 'loss': '3.762661', eta: 0:01:52, batch_cost: 0.13307 sec, ips: 60.11832 images/sec\n",
      "[INFO 2021-03-29 13:52:11,507 train.py:286] iter: 220, lr: 0.001000, 'loss': '3.762661', eta: 0:01:52, batch_cost: 0.13307 sec, ips: 60.11832 images/sec\n",
      "2021-03-29 13:52:12,945-INFO: iter: 230, lr: 0.001000, 'loss': '3.537639', eta: 0:01:59, batch_cost: 0.14387 sec, ips: 55.60672 images/sec\n",
      "[INFO 2021-03-29 13:52:12,945 train.py:286] iter: 230, lr: 0.001000, 'loss': '3.537639', eta: 0:01:59, batch_cost: 0.14387 sec, ips: 55.60672 images/sec\n",
      "2021-03-29 13:52:14,276-INFO: iter: 240, lr: 0.001000, 'loss': '3.154002', eta: 0:01:49, batch_cost: 0.13299 sec, ips: 60.15537 images/sec\n",
      "[INFO 2021-03-29 13:52:14,276 train.py:286] iter: 240, lr: 0.001000, 'loss': '3.154002', eta: 0:01:49, batch_cost: 0.13299 sec, ips: 60.15537 images/sec\n",
      "2021-03-29 13:52:15,661-INFO: iter: 250, lr: 0.001000, 'loss': '3.292322', eta: 0:01:52, batch_cost: 0.13847 sec, ips: 57.77436 images/sec\n",
      "[INFO 2021-03-29 13:52:15,661 train.py:286] iter: 250, lr: 0.001000, 'loss': '3.292322', eta: 0:01:52, batch_cost: 0.13847 sec, ips: 57.77436 images/sec\n",
      "2021-03-29 13:52:17,045-INFO: iter: 260, lr: 0.001000, 'loss': '3.497414', eta: 0:01:47, batch_cost: 0.13353 sec, ips: 59.91181 images/sec\n",
      "[INFO 2021-03-29 13:52:17,045 train.py:286] iter: 260, lr: 0.001000, 'loss': '3.497414', eta: 0:01:47, batch_cost: 0.13353 sec, ips: 59.91181 images/sec\n",
      "2021-03-29 13:52:18,445-INFO: iter: 270, lr: 0.001000, 'loss': '3.754470', eta: 0:01:48, batch_cost: 0.13654 sec, ips: 58.59182 images/sec\n",
      "[INFO 2021-03-29 13:52:18,445 train.py:286] iter: 270, lr: 0.001000, 'loss': '3.754470', eta: 0:01:48, batch_cost: 0.13654 sec, ips: 58.59182 images/sec\n",
      "2021-03-29 13:52:19,846-INFO: iter: 280, lr: 0.001000, 'loss': '3.274657', eta: 0:01:49, batch_cost: 0.13995 sec, ips: 57.16347 images/sec\n",
      "[INFO 2021-03-29 13:52:19,846 train.py:286] iter: 280, lr: 0.001000, 'loss': '3.274657', eta: 0:01:49, batch_cost: 0.13995 sec, ips: 57.16347 images/sec\n",
      "2021-03-29 13:52:21,145-INFO: iter: 290, lr: 0.001000, 'loss': '3.206358', eta: 0:01:44, batch_cost: 0.13561 sec, ips: 58.99083 images/sec\n",
      "[INFO 2021-03-29 13:52:21,145 train.py:286] iter: 290, lr: 0.001000, 'loss': '3.206358', eta: 0:01:44, batch_cost: 0.13561 sec, ips: 58.99083 images/sec\n",
      "2021-03-29 13:52:22,479-INFO: iter: 300, lr: 0.001000, 'loss': '3.228349', eta: 0:01:43, batch_cost: 0.13623 sec, ips: 58.72291 images/sec\n",
      "[INFO 2021-03-29 13:52:22,479 train.py:286] iter: 300, lr: 0.001000, 'loss': '3.228349', eta: 0:01:43, batch_cost: 0.13623 sec, ips: 58.72291 images/sec\n",
      "2021-03-29 13:52:23,920-INFO: iter: 310, lr: 0.001000, 'loss': '3.029080', eta: 0:01:48, batch_cost: 0.14410 sec, ips: 55.51603 images/sec\n",
      "[INFO 2021-03-29 13:52:23,920 train.py:286] iter: 310, lr: 0.001000, 'loss': '3.029080', eta: 0:01:48, batch_cost: 0.14410 sec, ips: 55.51603 images/sec\n",
      "2021-03-29 13:52:25,321-INFO: iter: 320, lr: 0.001000, 'loss': '3.067974', eta: 0:01:44, batch_cost: 0.14016 sec, ips: 57.07620 images/sec\n",
      "[INFO 2021-03-29 13:52:25,321 train.py:286] iter: 320, lr: 0.001000, 'loss': '3.067974', eta: 0:01:44, batch_cost: 0.14016 sec, ips: 57.07620 images/sec\n",
      "2021-03-29 13:52:26,708-INFO: iter: 330, lr: 0.001000, 'loss': '2.721331', eta: 0:01:41, batch_cost: 0.13876 sec, ips: 57.65215 images/sec\n",
      "[INFO 2021-03-29 13:52:26,708 train.py:286] iter: 330, lr: 0.001000, 'loss': '2.721331', eta: 0:01:41, batch_cost: 0.13876 sec, ips: 57.65215 images/sec\n",
      "2021-03-29 13:52:28,135-INFO: iter: 340, lr: 0.001000, 'loss': '3.096301', eta: 0:01:46, batch_cost: 0.14749 sec, ips: 54.24100 images/sec\n",
      "[INFO 2021-03-29 13:52:28,135 train.py:286] iter: 340, lr: 0.001000, 'loss': '3.096301', eta: 0:01:46, batch_cost: 0.14749 sec, ips: 54.24100 images/sec\n",
      "2021-03-29 13:52:29,576-INFO: iter: 350, lr: 0.001000, 'loss': '2.665330', eta: 0:01:39, batch_cost: 0.13912 sec, ips: 57.50511 images/sec\n",
      "[INFO 2021-03-29 13:52:29,576 train.py:286] iter: 350, lr: 0.001000, 'loss': '2.665330', eta: 0:01:39, batch_cost: 0.13912 sec, ips: 57.50511 images/sec\n",
      "2021-03-29 13:52:30,841-INFO: iter: 360, lr: 0.001000, 'loss': '2.828264', eta: 0:01:28, batch_cost: 0.12651 sec, ips: 63.23657 images/sec\n",
      "[INFO 2021-03-29 13:52:30,841 train.py:286] iter: 360, lr: 0.001000, 'loss': '2.828264', eta: 0:01:28, batch_cost: 0.12651 sec, ips: 63.23657 images/sec\n",
      "2021-03-29 13:52:32,245-INFO: iter: 370, lr: 0.001000, 'loss': '2.699395', eta: 0:01:38, batch_cost: 0.14197 sec, ips: 56.34891 images/sec\n",
      "[INFO 2021-03-29 13:52:32,245 train.py:286] iter: 370, lr: 0.001000, 'loss': '2.699395', eta: 0:01:38, batch_cost: 0.14197 sec, ips: 56.34891 images/sec\n",
      "2021-03-29 13:52:33,645-INFO: iter: 380, lr: 0.001000, 'loss': '2.463914', eta: 0:01:28, batch_cost: 0.13002 sec, ips: 61.52885 images/sec\n",
      "[INFO 2021-03-29 13:52:33,645 train.py:286] iter: 380, lr: 0.001000, 'loss': '2.463914', eta: 0:01:28, batch_cost: 0.13002 sec, ips: 61.52885 images/sec\n",
      "2021-03-29 13:52:34,945-INFO: iter: 390, lr: 0.001000, 'loss': '2.709540', eta: 0:01:27, batch_cost: 0.13000 sec, ips: 61.53838 images/sec\n",
      "[INFO 2021-03-29 13:52:34,945 train.py:286] iter: 390, lr: 0.001000, 'loss': '2.709540', eta: 0:01:27, batch_cost: 0.13000 sec, ips: 61.53838 images/sec\n",
      "2021-03-29 13:52:36,145-INFO: iter: 400, lr: 0.001000, 'loss': '2.654536', eta: 0:01:24, batch_cost: 0.12834 sec, ips: 62.33636 images/sec\n",
      "[INFO 2021-03-29 13:52:36,145 train.py:286] iter: 400, lr: 0.001000, 'loss': '2.654536', eta: 0:01:24, batch_cost: 0.12834 sec, ips: 62.33636 images/sec\n",
      "2021-03-29 13:52:37,499-INFO: iter: 410, lr: 0.001000, 'loss': '2.442976', eta: 0:01:28, batch_cost: 0.13563 sec, ips: 58.98492 images/sec\n",
      "[INFO 2021-03-29 13:52:37,499 train.py:286] iter: 410, lr: 0.001000, 'loss': '2.442976', eta: 0:01:28, batch_cost: 0.13563 sec, ips: 58.98492 images/sec\n",
      "2021-03-29 13:52:38,858-INFO: iter: 420, lr: 0.001000, 'loss': '2.542232', eta: 0:01:27, batch_cost: 0.13584 sec, ips: 58.89432 images/sec\n",
      "[INFO 2021-03-29 13:52:38,858 train.py:286] iter: 420, lr: 0.001000, 'loss': '2.542232', eta: 0:01:27, batch_cost: 0.13584 sec, ips: 58.89432 images/sec\n",
      "2021-03-29 13:52:40,310-INFO: iter: 430, lr: 0.001000, 'loss': '2.353822', eta: 0:01:31, batch_cost: 0.14520 sec, ips: 55.09676 images/sec\n",
      "[INFO 2021-03-29 13:52:40,310 train.py:286] iter: 430, lr: 0.001000, 'loss': '2.353822', eta: 0:01:31, batch_cost: 0.14520 sec, ips: 55.09676 images/sec\n",
      "2021-03-29 13:52:41,732-INFO: iter: 440, lr: 0.001000, 'loss': '2.244942', eta: 0:01:28, batch_cost: 0.14221 sec, ips: 56.25345 images/sec\n",
      "[INFO 2021-03-29 13:52:41,732 train.py:286] iter: 440, lr: 0.001000, 'loss': '2.244942', eta: 0:01:28, batch_cost: 0.14221 sec, ips: 56.25345 images/sec\n",
      "2021-03-29 13:52:43,127-INFO: iter: 450, lr: 0.001000, 'loss': '2.423190', eta: 0:01:25, batch_cost: 0.13949 sec, ips: 57.35095 images/sec\n",
      "[INFO 2021-03-29 13:52:43,127 train.py:286] iter: 450, lr: 0.001000, 'loss': '2.423190', eta: 0:01:25, batch_cost: 0.13949 sec, ips: 57.35095 images/sec\n",
      "2021-03-29 13:52:44,580-INFO: iter: 460, lr: 0.001000, 'loss': '2.620737', eta: 0:01:27, batch_cost: 0.14531 sec, ips: 55.05528 images/sec\n",
      "[INFO 2021-03-29 13:52:44,580 train.py:286] iter: 460, lr: 0.001000, 'loss': '2.620737', eta: 0:01:27, batch_cost: 0.14531 sec, ips: 55.05528 images/sec\n",
      "2021-03-29 13:52:45,961-INFO: iter: 470, lr: 0.001000, 'loss': '2.555043', eta: 0:01:21, batch_cost: 0.13798 sec, ips: 57.98125 images/sec\n",
      "[INFO 2021-03-29 13:52:45,961 train.py:286] iter: 470, lr: 0.001000, 'loss': '2.555043', eta: 0:01:21, batch_cost: 0.13798 sec, ips: 57.98125 images/sec\n",
      "2021-03-29 13:52:47,345-INFO: iter: 480, lr: 0.001000, 'loss': '2.349457', eta: 0:01:15, batch_cost: 0.13004 sec, ips: 61.51844 images/sec\n",
      "[INFO 2021-03-29 13:52:47,345 train.py:286] iter: 480, lr: 0.001000, 'loss': '2.349457', eta: 0:01:15, batch_cost: 0.13004 sec, ips: 61.51844 images/sec\n",
      "2021-03-29 13:52:48,651-INFO: iter: 490, lr: 0.001000, 'loss': '2.193311', eta: 0:01:14, batch_cost: 0.12995 sec, ips: 61.56414 images/sec\n",
      "[INFO 2021-03-29 13:52:48,651 train.py:286] iter: 490, lr: 0.001000, 'loss': '2.193311', eta: 0:01:14, batch_cost: 0.12995 sec, ips: 61.56414 images/sec\n",
      "2021-03-29 13:52:50,145-INFO: iter: 500, lr: 0.001000, 'loss': '2.495921', eta: 0:01:24, batch_cost: 0.15000 sec, ips: 53.33311 images/sec\n",
      "[INFO 2021-03-29 13:52:50,145 train.py:286] iter: 500, lr: 0.001000, 'loss': '2.495921', eta: 0:01:24, batch_cost: 0.15000 sec, ips: 53.33311 images/sec\n",
      "2021-03-29 13:52:51,545-INFO: iter: 510, lr: 0.001000, 'loss': '2.267032', eta: 0:01:16, batch_cost: 0.13921 sec, ips: 57.46612 images/sec\n",
      "[INFO 2021-03-29 13:52:51,545 train.py:286] iter: 510, lr: 0.001000, 'loss': '2.267032', eta: 0:01:16, batch_cost: 0.13921 sec, ips: 57.46612 images/sec\n",
      "2021-03-29 13:52:52,933-INFO: iter: 520, lr: 0.001000, 'loss': '2.491234', eta: 0:01:20, batch_cost: 0.14817 sec, ips: 53.99258 images/sec\n",
      "[INFO 2021-03-29 13:52:52,933 train.py:286] iter: 520, lr: 0.001000, 'loss': '2.491234', eta: 0:01:20, batch_cost: 0.14817 sec, ips: 53.99258 images/sec\n",
      "2021-03-29 13:52:54,335-INFO: iter: 530, lr: 0.001000, 'loss': '2.263446', eta: 0:01:14, batch_cost: 0.14020 sec, ips: 57.06249 images/sec\n",
      "[INFO 2021-03-29 13:52:54,335 train.py:286] iter: 530, lr: 0.001000, 'loss': '2.263446', eta: 0:01:14, batch_cost: 0.14020 sec, ips: 57.06249 images/sec\n",
      "2021-03-29 13:52:55,773-INFO: iter: 540, lr: 0.001000, 'loss': '2.085247', eta: 0:01:14, batch_cost: 0.14364 sec, ips: 55.69541 images/sec\n",
      "[INFO 2021-03-29 13:52:55,773 train.py:286] iter: 540, lr: 0.001000, 'loss': '2.085247', eta: 0:01:14, batch_cost: 0.14364 sec, ips: 55.69541 images/sec\n",
      "2021-03-29 13:52:57,129-INFO: iter: 550, lr: 0.001000, 'loss': '1.968349', eta: 0:01:09, batch_cost: 0.13574 sec, ips: 58.93486 images/sec\n",
      "[INFO 2021-03-29 13:52:57,129 train.py:286] iter: 550, lr: 0.001000, 'loss': '1.968349', eta: 0:01:09, batch_cost: 0.13574 sec, ips: 58.93486 images/sec\n",
      "2021-03-29 13:52:58,582-INFO: iter: 560, lr: 0.001000, 'loss': '2.033330', eta: 0:01:12, batch_cost: 0.14535 sec, ips: 55.03768 images/sec\n",
      "[INFO 2021-03-29 13:52:58,582 train.py:286] iter: 560, lr: 0.001000, 'loss': '2.033330', eta: 0:01:12, batch_cost: 0.14535 sec, ips: 55.03768 images/sec\n",
      "2021-03-29 13:53:00,046-INFO: iter: 570, lr: 0.001000, 'loss': '2.192755', eta: 0:01:14, batch_cost: 0.15122 sec, ips: 52.90224 images/sec\n",
      "[INFO 2021-03-29 13:53:00,046 train.py:286] iter: 570, lr: 0.001000, 'loss': '2.192755', eta: 0:01:14, batch_cost: 0.15122 sec, ips: 52.90224 images/sec\n",
      "2021-03-29 13:53:01,460-INFO: iter: 580, lr: 0.001000, 'loss': '2.073332', eta: 0:01:05, batch_cost: 0.13646 sec, ips: 58.62434 images/sec\n",
      "[INFO 2021-03-29 13:53:01,460 train.py:286] iter: 580, lr: 0.001000, 'loss': '2.073332', eta: 0:01:05, batch_cost: 0.13646 sec, ips: 58.62434 images/sec\n",
      "2021-03-29 13:53:02,745-INFO: iter: 590, lr: 0.001000, 'loss': '2.001022', eta: 0:00:56, batch_cost: 0.12016 sec, ips: 66.58059 images/sec\n",
      "[INFO 2021-03-29 13:53:02,745 train.py:286] iter: 590, lr: 0.001000, 'loss': '2.001022', eta: 0:00:56, batch_cost: 0.12016 sec, ips: 66.58059 images/sec\n",
      "2021-03-29 13:53:04,145-INFO: iter: 600, lr: 0.001000, 'loss': '2.064865', eta: 0:01:04, batch_cost: 0.14004 sec, ips: 57.12462 images/sec\n",
      "[INFO 2021-03-29 13:53:04,145 train.py:286] iter: 600, lr: 0.001000, 'loss': '2.064865', eta: 0:01:04, batch_cost: 0.14004 sec, ips: 57.12462 images/sec\n",
      "2021-03-29 13:53:05,447-INFO: iter: 610, lr: 0.001000, 'loss': '2.036387', eta: 0:00:58, batch_cost: 0.12985 sec, ips: 61.60829 images/sec\n",
      "[INFO 2021-03-29 13:53:05,447 train.py:286] iter: 610, lr: 0.001000, 'loss': '2.036387', eta: 0:00:58, batch_cost: 0.12985 sec, ips: 61.60829 images/sec\n",
      "2021-03-29 13:53:06,845-INFO: iter: 620, lr: 0.001000, 'loss': '2.265923', eta: 0:01:02, batch_cost: 0.14086 sec, ips: 56.79412 images/sec\n",
      "[INFO 2021-03-29 13:53:06,845 train.py:286] iter: 620, lr: 0.001000, 'loss': '2.265923', eta: 0:01:02, batch_cost: 0.14086 sec, ips: 56.79412 images/sec\n",
      "2021-03-29 13:53:08,274-INFO: iter: 630, lr: 0.001000, 'loss': '1.875306', eta: 0:01:05, batch_cost: 0.15060 sec, ips: 53.12193 images/sec\n",
      "[INFO 2021-03-29 13:53:08,274 train.py:286] iter: 630, lr: 0.001000, 'loss': '1.875306', eta: 0:01:05, batch_cost: 0.15060 sec, ips: 53.12193 images/sec\n",
      "2021-03-29 13:53:09,719-INFO: iter: 640, lr: 0.001000, 'loss': '1.737951', eta: 0:01:00, batch_cost: 0.14450 sec, ips: 55.36248 images/sec\n",
      "[INFO 2021-03-29 13:53:09,719 train.py:286] iter: 640, lr: 0.001000, 'loss': '1.737951', eta: 0:01:00, batch_cost: 0.14450 sec, ips: 55.36248 images/sec\n",
      "2021-03-29 13:53:11,182-INFO: iter: 650, lr: 0.001000, 'loss': '1.858221', eta: 0:01:00, batch_cost: 0.14626 sec, ips: 54.69666 images/sec\n",
      "[INFO 2021-03-29 13:53:11,182 train.py:286] iter: 650, lr: 0.001000, 'loss': '1.858221', eta: 0:01:00, batch_cost: 0.14626 sec, ips: 54.69666 images/sec\n",
      "2021-03-29 13:53:12,537-INFO: iter: 660, lr: 0.001000, 'loss': '1.880874', eta: 0:00:54, batch_cost: 0.13551 sec, ips: 59.03616 images/sec\n",
      "[INFO 2021-03-29 13:53:12,537 train.py:286] iter: 660, lr: 0.001000, 'loss': '1.880874', eta: 0:00:54, batch_cost: 0.13551 sec, ips: 59.03616 images/sec\n",
      "2021-03-29 13:53:13,927-INFO: iter: 670, lr: 0.001000, 'loss': '1.635083', eta: 0:00:54, batch_cost: 0.13898 sec, ips: 57.56354 images/sec\n",
      "[INFO 2021-03-29 13:53:13,927 train.py:286] iter: 670, lr: 0.001000, 'loss': '1.635083', eta: 0:00:54, batch_cost: 0.13898 sec, ips: 57.56354 images/sec\n",
      "2021-03-29 13:53:15,277-INFO: iter: 680, lr: 0.001000, 'loss': '1.895925', eta: 0:00:51, batch_cost: 0.13458 sec, ips: 59.44264 images/sec\n",
      "[INFO 2021-03-29 13:53:15,277 train.py:286] iter: 680, lr: 0.001000, 'loss': '1.895925', eta: 0:00:51, batch_cost: 0.13458 sec, ips: 59.44264 images/sec\n",
      "2021-03-29 13:53:16,626-INFO: iter: 690, lr: 0.001000, 'loss': '1.787013', eta: 0:00:50, batch_cost: 0.13533 sec, ips: 59.11469 images/sec\n",
      "[INFO 2021-03-29 13:53:16,626 train.py:286] iter: 690, lr: 0.001000, 'loss': '1.787013', eta: 0:00:50, batch_cost: 0.13533 sec, ips: 59.11469 images/sec\n",
      "2021-03-29 13:53:17,945-INFO: iter: 700, lr: 0.001000, 'loss': '1.457372', eta: 0:00:46, batch_cost: 0.12733 sec, ips: 62.82827 images/sec\n",
      "[INFO 2021-03-29 13:53:17,945 train.py:286] iter: 700, lr: 0.001000, 'loss': '1.457372', eta: 0:00:46, batch_cost: 0.12733 sec, ips: 62.82827 images/sec\n",
      "2021-03-29 13:53:19,245-INFO: iter: 710, lr: 0.001000, 'loss': '1.928528', eta: 0:00:44, batch_cost: 0.12662 sec, ips: 63.18011 images/sec\n",
      "[INFO 2021-03-29 13:53:19,245 train.py:286] iter: 710, lr: 0.001000, 'loss': '1.928528', eta: 0:00:44, batch_cost: 0.12662 sec, ips: 63.18011 images/sec\n",
      "2021-03-29 13:53:20,645-INFO: iter: 720, lr: 0.001000, 'loss': '1.466592', eta: 0:00:47, batch_cost: 0.13940 sec, ips: 57.38971 images/sec\n",
      "[INFO 2021-03-29 13:53:20,645 train.py:286] iter: 720, lr: 0.001000, 'loss': '1.466592', eta: 0:00:47, batch_cost: 0.13940 sec, ips: 57.38971 images/sec\n",
      "2021-03-29 13:53:21,945-INFO: iter: 730, lr: 0.001000, 'loss': '1.609877', eta: 0:00:43, batch_cost: 0.13066 sec, ips: 61.22573 images/sec\n",
      "[INFO 2021-03-29 13:53:21,945 train.py:286] iter: 730, lr: 0.001000, 'loss': '1.609877', eta: 0:00:43, batch_cost: 0.13066 sec, ips: 61.22573 images/sec\n",
      "2021-03-29 13:53:23,277-INFO: iter: 740, lr: 0.001000, 'loss': '1.384139', eta: 0:00:45, batch_cost: 0.14106 sec, ips: 56.71541 images/sec\n",
      "[INFO 2021-03-29 13:53:23,277 train.py:286] iter: 740, lr: 0.001000, 'loss': '1.384139', eta: 0:00:45, batch_cost: 0.14106 sec, ips: 56.71541 images/sec\n",
      "2021-03-29 13:53:24,636-INFO: iter: 750, lr: 0.001000, 'loss': '1.282825', eta: 0:00:42, batch_cost: 0.13589 sec, ips: 58.86938 images/sec\n",
      "[INFO 2021-03-29 13:53:24,636 train.py:286] iter: 750, lr: 0.001000, 'loss': '1.282825', eta: 0:00:42, batch_cost: 0.13589 sec, ips: 58.86938 images/sec\n",
      "2021-03-29 13:53:26,027-INFO: iter: 760, lr: 0.001000, 'loss': '1.628366', eta: 0:00:41, batch_cost: 0.13907 sec, ips: 57.52653 images/sec\n",
      "[INFO 2021-03-29 13:53:26,027 train.py:286] iter: 760, lr: 0.001000, 'loss': '1.628366', eta: 0:00:41, batch_cost: 0.13907 sec, ips: 57.52653 images/sec\n",
      "2021-03-29 13:53:27,457-INFO: iter: 770, lr: 0.001000, 'loss': '1.735227', eta: 0:00:41, batch_cost: 0.14300 sec, ips: 55.94439 images/sec\n",
      "[INFO 2021-03-29 13:53:27,457 train.py:286] iter: 770, lr: 0.001000, 'loss': '1.735227', eta: 0:00:41, batch_cost: 0.14300 sec, ips: 55.94439 images/sec\n",
      "2021-03-29 13:53:28,841-INFO: iter: 780, lr: 0.001000, 'loss': '1.178461', eta: 0:00:39, batch_cost: 0.13842 sec, ips: 57.79702 images/sec\n",
      "[INFO 2021-03-29 13:53:28,841 train.py:286] iter: 780, lr: 0.001000, 'loss': '1.178461', eta: 0:00:39, batch_cost: 0.13842 sec, ips: 57.79702 images/sec\n",
      "2021-03-29 13:53:30,283-INFO: iter: 790, lr: 0.001000, 'loss': '1.400778', eta: 0:00:40, batch_cost: 0.14902 sec, ips: 53.68348 images/sec\n",
      "[INFO 2021-03-29 13:53:30,283 train.py:286] iter: 790, lr: 0.001000, 'loss': '1.400778', eta: 0:00:40, batch_cost: 0.14902 sec, ips: 53.68348 images/sec\n",
      "2021-03-29 13:53:31,694-INFO: iter: 800, lr: 0.001000, 'loss': '1.527135', eta: 0:00:34, batch_cost: 0.13286 sec, ips: 60.21450 images/sec\n",
      "[INFO 2021-03-29 13:53:31,694 train.py:286] iter: 800, lr: 0.001000, 'loss': '1.527135', eta: 0:00:34, batch_cost: 0.13286 sec, ips: 60.21450 images/sec\n",
      "2021-03-29 13:53:33,145-INFO: iter: 810, lr: 0.001000, 'loss': '1.462039', eta: 0:00:35, batch_cost: 0.14000 sec, ips: 57.14203 images/sec\n",
      "[INFO 2021-03-29 13:53:33,145 train.py:286] iter: 810, lr: 0.001000, 'loss': '1.462039', eta: 0:00:35, batch_cost: 0.14000 sec, ips: 57.14203 images/sec\n",
      "2021-03-29 13:53:34,545-INFO: iter: 820, lr: 0.001000, 'loss': '1.662516', eta: 0:00:33, batch_cost: 0.14000 sec, ips: 57.14375 images/sec\n",
      "[INFO 2021-03-29 13:53:34,545 train.py:286] iter: 820, lr: 0.001000, 'loss': '1.662516', eta: 0:00:33, batch_cost: 0.14000 sec, ips: 57.14375 images/sec\n",
      "2021-03-29 13:53:35,945-INFO: iter: 830, lr: 0.001000, 'loss': '1.739583', eta: 0:00:32, batch_cost: 0.14000 sec, ips: 57.14216 images/sec\n",
      "[INFO 2021-03-29 13:53:35,945 train.py:286] iter: 830, lr: 0.001000, 'loss': '1.739583', eta: 0:00:32, batch_cost: 0.14000 sec, ips: 57.14216 images/sec\n",
      "2021-03-29 13:53:37,345-INFO: iter: 840, lr: 0.001000, 'loss': '1.713696', eta: 0:00:31, batch_cost: 0.14063 sec, ips: 56.88529 images/sec\n",
      "[INFO 2021-03-29 13:53:37,345 train.py:286] iter: 840, lr: 0.001000, 'loss': '1.713696', eta: 0:00:31, batch_cost: 0.14063 sec, ips: 56.88529 images/sec\n",
      "2021-03-29 13:53:38,667-INFO: iter: 850, lr: 0.001000, 'loss': '1.591400', eta: 0:00:29, batch_cost: 0.14014 sec, ips: 57.08530 images/sec\n",
      "[INFO 2021-03-29 13:53:38,667 train.py:286] iter: 850, lr: 0.001000, 'loss': '1.591400', eta: 0:00:29, batch_cost: 0.14014 sec, ips: 57.08530 images/sec\n",
      "2021-03-29 13:53:40,092-INFO: iter: 860, lr: 0.001000, 'loss': '1.650163', eta: 0:00:28, batch_cost: 0.14247 sec, ips: 56.15058 images/sec\n",
      "[INFO 2021-03-29 13:53:40,092 train.py:286] iter: 860, lr: 0.001000, 'loss': '1.650163', eta: 0:00:28, batch_cost: 0.14247 sec, ips: 56.15058 images/sec\n",
      "2021-03-29 13:53:41,449-INFO: iter: 870, lr: 0.001000, 'loss': '1.310939', eta: 0:00:25, batch_cost: 0.13448 sec, ips: 59.48649 images/sec\n",
      "[INFO 2021-03-29 13:53:41,449 train.py:286] iter: 870, lr: 0.001000, 'loss': '1.310939', eta: 0:00:25, batch_cost: 0.13448 sec, ips: 59.48649 images/sec\n",
      "2021-03-29 13:53:42,886-INFO: iter: 880, lr: 0.001000, 'loss': '1.325519', eta: 0:00:26, batch_cost: 0.14491 sec, ips: 55.20551 images/sec\n",
      "[INFO 2021-03-29 13:53:42,886 train.py:286] iter: 880, lr: 0.001000, 'loss': '1.325519', eta: 0:00:26, batch_cost: 0.14491 sec, ips: 55.20551 images/sec\n",
      "2021-03-29 13:53:44,256-INFO: iter: 890, lr: 0.001000, 'loss': '1.374292', eta: 0:00:23, batch_cost: 0.13702 sec, ips: 58.38519 images/sec\n",
      "[INFO 2021-03-29 13:53:44,256 train.py:286] iter: 890, lr: 0.001000, 'loss': '1.374292', eta: 0:00:23, batch_cost: 0.13702 sec, ips: 58.38519 images/sec\n",
      "2021-03-29 13:53:45,625-INFO: iter: 900, lr: 0.001000, 'loss': '1.359699', eta: 0:00:22, batch_cost: 0.13689 sec, ips: 58.44287 images/sec\n",
      "[INFO 2021-03-29 13:53:45,625 train.py:286] iter: 900, lr: 0.001000, 'loss': '1.359699', eta: 0:00:22, batch_cost: 0.13689 sec, ips: 58.44287 images/sec\n",
      "2021-03-29 13:53:46,937-INFO: iter: 910, lr: 0.001000, 'loss': '1.324675', eta: 0:00:19, batch_cost: 0.13112 sec, ips: 61.01297 images/sec\n",
      "[INFO 2021-03-29 13:53:46,937 train.py:286] iter: 910, lr: 0.001000, 'loss': '1.324675', eta: 0:00:19, batch_cost: 0.13112 sec, ips: 61.01297 images/sec\n",
      "2021-03-29 13:53:48,246-INFO: iter: 920, lr: 0.001000, 'loss': '1.419372', eta: 0:00:17, batch_cost: 0.12269 sec, ips: 65.20420 images/sec\n",
      "[INFO 2021-03-29 13:53:48,246 train.py:286] iter: 920, lr: 0.001000, 'loss': '1.419372', eta: 0:00:17, batch_cost: 0.12269 sec, ips: 65.20420 images/sec\n",
      "2021-03-29 13:53:49,545-INFO: iter: 930, lr: 0.001000, 'loss': '1.239885', eta: 0:00:17, batch_cost: 0.12985 sec, ips: 61.61040 images/sec\n",
      "[INFO 2021-03-29 13:53:49,545 train.py:286] iter: 930, lr: 0.001000, 'loss': '1.239885', eta: 0:00:17, batch_cost: 0.12985 sec, ips: 61.61040 images/sec\n",
      "2021-03-29 13:53:50,945-INFO: iter: 940, lr: 0.001000, 'loss': '1.435546', eta: 0:00:17, batch_cost: 0.14001 sec, ips: 57.13738 images/sec\n",
      "[INFO 2021-03-29 13:53:50,945 train.py:286] iter: 940, lr: 0.001000, 'loss': '1.435546', eta: 0:00:17, batch_cost: 0.14001 sec, ips: 57.13738 images/sec\n",
      "2021-03-29 13:53:52,245-INFO: iter: 950, lr: 0.001000, 'loss': '1.144945', eta: 0:00:14, batch_cost: 0.13075 sec, ips: 61.18564 images/sec\n",
      "[INFO 2021-03-29 13:53:52,245 train.py:286] iter: 950, lr: 0.001000, 'loss': '1.144945', eta: 0:00:14, batch_cost: 0.13075 sec, ips: 61.18564 images/sec\n",
      "2021-03-29 13:53:53,636-INFO: iter: 960, lr: 0.001000, 'loss': '1.291040', eta: 0:00:14, batch_cost: 0.14663 sec, ips: 54.55896 images/sec\n",
      "[INFO 2021-03-29 13:53:53,636 train.py:286] iter: 960, lr: 0.001000, 'loss': '1.291040', eta: 0:00:14, batch_cost: 0.14663 sec, ips: 54.55896 images/sec\n",
      "2021-03-29 13:53:55,089-INFO: iter: 970, lr: 0.001000, 'loss': '1.397670', eta: 0:00:13, batch_cost: 0.14532 sec, ips: 55.05065 images/sec\n",
      "[INFO 2021-03-29 13:53:55,089 train.py:286] iter: 970, lr: 0.001000, 'loss': '1.397670', eta: 0:00:13, batch_cost: 0.14532 sec, ips: 55.05065 images/sec\n",
      "2021-03-29 13:53:56,439-INFO: iter: 980, lr: 0.001000, 'loss': '1.316271', eta: 0:00:11, batch_cost: 0.13508 sec, ips: 59.22603 images/sec\n",
      "[INFO 2021-03-29 13:53:56,439 train.py:286] iter: 980, lr: 0.001000, 'loss': '1.316271', eta: 0:00:11, batch_cost: 0.13508 sec, ips: 59.22603 images/sec\n",
      "2021-03-29 13:53:57,847-INFO: iter: 990, lr: 0.001000, 'loss': '1.221158', eta: 0:00:10, batch_cost: 0.14075 sec, ips: 56.83820 images/sec\n",
      "[INFO 2021-03-29 13:53:57,847 train.py:286] iter: 990, lr: 0.001000, 'loss': '1.221158', eta: 0:00:10, batch_cost: 0.14075 sec, ips: 56.83820 images/sec\n",
      "2021-03-29 13:53:59,160-INFO: iter: 1000, lr: 0.001000, 'loss': '1.186668', eta: 0:00:08, batch_cost: 0.13126 sec, ips: 60.94571 images/sec\n",
      "[INFO 2021-03-29 13:53:59,160 train.py:286] iter: 1000, lr: 0.001000, 'loss': '1.186668', eta: 0:00:08, batch_cost: 0.13126 sec, ips: 60.94571 images/sec\n",
      "2021-03-29 13:54:00,560-INFO: iter: 1010, lr: 0.001000, 'loss': '1.367702', eta: 0:00:07, batch_cost: 0.13998 sec, ips: 57.14940 images/sec\n",
      "[INFO 2021-03-29 13:54:00,560 train.py:286] iter: 1010, lr: 0.001000, 'loss': '1.367702', eta: 0:00:07, batch_cost: 0.13998 sec, ips: 57.14940 images/sec\n",
      "2021-03-29 13:54:01,961-INFO: iter: 1020, lr: 0.001000, 'loss': '1.231788', eta: 0:00:05, batch_cost: 0.14000 sec, ips: 57.14369 images/sec\n",
      "[INFO 2021-03-29 13:54:01,961 train.py:286] iter: 1020, lr: 0.001000, 'loss': '1.231788', eta: 0:00:05, batch_cost: 0.14000 sec, ips: 57.14369 images/sec\n",
      "2021-03-29 13:54:03,413-INFO: iter: 1030, lr: 0.001000, 'loss': '1.272430', eta: 0:00:04, batch_cost: 0.14003 sec, ips: 57.13021 images/sec\n",
      "[INFO 2021-03-29 13:54:03,413 train.py:286] iter: 1030, lr: 0.001000, 'loss': '1.272430', eta: 0:00:04, batch_cost: 0.14003 sec, ips: 57.13021 images/sec\n",
      "2021-03-29 13:54:04,650-INFO: iter: 1040, lr: 0.001000, 'loss': '1.465988', eta: 0:00:02, batch_cost: 0.12999 sec, ips: 61.54193 images/sec\n",
      "[INFO 2021-03-29 13:54:04,650 train.py:286] iter: 1040, lr: 0.001000, 'loss': '1.465988', eta: 0:00:02, batch_cost: 0.12999 sec, ips: 61.54193 images/sec\n",
      "2021-03-29 13:54:05,893-INFO: iter: 1050, lr: 0.001000, 'loss': '1.232960', eta: 0:00:01, batch_cost: 0.12341 sec, ips: 64.82694 images/sec\n",
      "[INFO 2021-03-29 13:54:05,893 train.py:286] iter: 1050, lr: 0.001000, 'loss': '1.232960', eta: 0:00:01, batch_cost: 0.12341 sec, ips: 64.82694 images/sec\n",
      "2021-03-29 13:54:06,989-INFO: iter: 1060, lr: 0.001000, 'loss': '1.047187', eta: 0:00:00, batch_cost: 0.10900 sec, ips: 73.39532 images/sec\n",
      "[INFO 2021-03-29 13:54:06,989 train.py:286] iter: 1060, lr: 0.001000, 'loss': '1.047187', eta: 0:00:00, batch_cost: 0.10900 sec, ips: 73.39532 images/sec\n",
      "2021-03-29 13:54:07,104-INFO: Save model to output/ssd_vgg16_300_voc/model_final.\n",
      "[INFO 2021-03-29 13:54:07,104 checkpoint.py:199] Save model to output/ssd_vgg16_300_voc/model_final.\n",
      "2021-03-29 13:54:11,247-INFO: Test iter 0\n",
      "[INFO 2021-03-29 13:54:11,247 eval_utils.py:189] Test iter 0\n",
      "2021-03-29 13:54:11,248-INFO: Test finish iter 1\n",
      "[INFO 2021-03-29 13:54:11,248 eval_utils.py:196] Test finish iter 1\n",
      "2021-03-29 13:54:11,248-INFO: Total number of images: 23, inference time: 64.54251875679921 fps.\n",
      "[INFO 2021-03-29 13:54:11,248 eval_utils.py:202] Total number of images: 23, inference time: 64.54251875679921 fps.\n",
      "2021-03-29 13:54:11,249-INFO: Start evaluate...\n",
      "[INFO 2021-03-29 13:54:11,249 voc_eval.py:56] Start evaluate...\n",
      "2021-03-29 13:54:11,253-INFO: Accumulating evaluatation results...\n",
      "[INFO 2021-03-29 13:54:11,253 voc_eval.py:107] Accumulating evaluatation results...\n",
      "2021-03-29 13:54:11,253-INFO: mAP(0.50, 11point) = 98.86%\n",
      "[INFO 2021-03-29 13:54:11,253 voc_eval.py:111] mAP(0.50, 11point) = 98.86%\n",
      "2021-03-29 13:54:11,254-INFO: Save model to output/ssd_vgg16_300_voc/best_model.\n",
      "[INFO 2021-03-29 13:54:11,254 checkpoint.py:199] Save model to output/ssd_vgg16_300_voc/best_model.\n",
      "2021-03-29 13:54:15,052-INFO: Best test box ap: 98.86363636363636, in iter: 1061\n",
      "[INFO 2021-03-29 13:54:15,052 train.py:333] Best test box ap: 98.86363636363636, in iter: 1061\n"
     ]
    }
   ],
   "source": [
    "# 配置文件在work/PaddleDetection/configs/ssd/ssd_vgg16_300_voc.yml，模型保存在work/PaddleDetection/output\r\n",
    "# 可使用可视化工具VisualDL,文件在work/PaddleDetection/vdl_log_dir（需要模型运行时才能产出）\r\n",
    "!python -u tools/train.py -c configs/ssd/ssd_vgg16_300_voc.yml --use_vdl True --eval"
   ]
  },
  {
   "cell_type": "markdown",
   "metadata": {
    "collapsed": false
   },
   "source": [
    "# 模型预测"
   ]
  },
  {
   "cell_type": "code",
   "execution_count": 34,
   "metadata": {
    "collapsed": false
   },
   "outputs": [
    {
     "name": "stdout",
     "output_type": "stream",
     "text": [
      "/home/aistudio/work/PaddleDetection\n",
      "W0329 14:26:00.744035  3395 device_context.cc:252] Please NOTE: device: 0, CUDA Capability: 70, Driver API Version: 11.0, Runtime API Version: 9.0\n",
      "W0329 14:26:00.748915  3395 device_context.cc:260] device: 0, cuDNN Version: 7.6.\n",
      "2021-03-29 14:26:03,975-INFO: Load categories from dataset/VOC2008/test_list.txt\n",
      "2021-03-29 14:26:04,158-INFO: Infer iter 0\n",
      "2021-03-29 14:26:04,167-INFO: Detection bbox results save in output/001.jpg\n"
     ]
    }
   ],
   "source": [
    "#测试，查看模型效果，结果存放在work/PaddleDetection/output\r\n",
    "%cd /home/aistudio/work/PaddleDetection/\r\n",
    "!python tools/infer.py -c configs/ssd/ssd_vgg16_300_voc.yml --infer_img=/home/aistudio/001.jpg"
   ]
  },
  {
   "cell_type": "code",
   "execution_count": 35,
   "metadata": {
    "collapsed": false
   },
   "outputs": [
    {
     "name": "stdout",
     "output_type": "stream",
     "text": [
      "/home/aistudio\n"
     ]
    }
   ],
   "source": [
    "%cd /home/aistudio/"
   ]
  },
  {
   "cell_type": "code",
   "execution_count": 36,
   "metadata": {
    "collapsed": false
   },
   "outputs": [],
   "source": [
    "import matplotlib.pyplot as plt\r\n",
    "import PIL.Image as Image"
   ]
  },
  {
   "cell_type": "code",
   "execution_count": 38,
   "metadata": {
    "collapsed": false
   },
   "outputs": [
    {
     "data": {
      "image/png": "[encoded data removed]",
      "text/plain": [
       "<Figure size 432x288 with 1 Axes>"
      ]
     },
     "metadata": {},
     "output_type": "display_data"
    }
   ],
   "source": [
    "path='work/PaddleDetection/output/001.jpg'\r\n",
    "img = Image.open(path)\r\n",
    "plt.imshow(img)          #根据数组绘制图像\r\n",
    "plt.show()               #显示图像"
   ]
  },
  {
   "cell_type": "markdown",
   "metadata": {
    "collapsed": false
   },
   "source": [
    "# 导出模型进行部署"
   ]
  },
  {
   "cell_type": "code",
   "execution_count": 2,
   "metadata": {
    "collapsed": false
   },
   "outputs": [
    {
     "name": "stdout",
     "output_type": "stream",
     "text": [
      "/home/aistudio/work/PaddleDetection\n",
      "2021-03-29 14:31:57,499-INFO: Load categories from dataset/VOC2008/test_list.txt\n",
      "2021-03-29 14:31:57,506-INFO: Export inference config file to ./inference/ssd_vgg16_300_voc/infer_cfg.yml\n",
      "2021-03-29 14:31:57,536-INFO: save_inference_model pruned unused feed variables im_id\n",
      "2021-03-29 14:31:57,537-INFO: save_inference_model pruned unused feed variables im_shape\n",
      "2021-03-29 14:31:57,537-INFO: Export inference model to ./inference/ssd_vgg16_300_voc, input: ['image'], output: ['detection_output_0.tmp_0']...\n"
     ]
    }
   ],
   "source": [
    "# 导出模型\r\n",
    "%cd /home/aistudio/work/PaddleDetection/\r\n",
    "!python tools/export_model.py -c configs/ssd/ssd_vgg16_300_voc.yml -o weights=output/ssd_vgg16_300_voc/model_final.pdparams --output_dir ./inference"
   ]
  },
  {
   "cell_type": "code",
   "execution_count": 4,
   "metadata": {
    "collapsed": false
   },
   "outputs": [
    {
     "name": "stdout",
     "output_type": "stream",
     "text": [
      "Looking in indexes: https://mirror.baidu.com/pypi/simple/\n",
      "Collecting paddlelite==2.6.3\n",
      "\u001b[?25l  Downloading https://mirror.baidu.com/pypi/packages/d5/8a/c4f17874a5906758142d2bf92d3999626d9b2c8fbe8a438a25a1fc763c7f/paddlelite-2.6.3-cp37-cp37m-manylinux1_x86_64.whl (42.8MB)\n",
      "\u001b[K     |████████████████████████████████| 42.8MB 5.0MB/s eta 0:00:013     |███████████████████████████████▊| 42.4MB 5.0MB/s eta 0:00:01\n",
      "\u001b[?25hInstalling collected packages: paddlelite\n",
      "Successfully installed paddlelite-2.6.3\n"
     ]
    }
   ],
   "source": [
    "#导入paddleList（模型部署依赖包）\r\n",
    "!pip install paddlelite==2.6.3"
   ]
  },
  {
   "cell_type": "code",
   "execution_count": 6,
   "metadata": {
    "collapsed": false
   },
   "outputs": [
    {
     "name": "stdout",
     "output_type": "stream",
     "text": [
      "WARNING: Logging before InitGoogleLogging() is written to STDERR\n",
      "I0329 14:36:57.619174  3867 cxx_api.cc:254] Load model from file.\n",
      "I0329 14:36:57.743980  3867 optimizer.h:232] == Running pass: lite_quant_dequant_fuse_pass\n",
      "I0329 14:36:57.748384  3867 optimizer.h:256] == Finished running: lite_quant_dequant_fuse_pass\n",
      "I0329 14:36:57.748400  3867 optimizer.h:232] == Running pass: weight_quantization_preprocess_pass\n",
      "I0329 14:36:57.748519  3867 optimizer.h:256] == Finished running: weight_quantization_preprocess_pass\n",
      "I0329 14:36:57.748529  3867 optimizer.h:232] == Running pass: lite_conv_elementwise_fuse_pass\n",
      "I0329 14:36:57.753765  3867 pattern_matcher.cc:108] detected 35 subgraph\n",
      "I0329 14:36:57.754854  3867 optimizer.h:256] == Finished running: lite_conv_elementwise_fuse_pass\n",
      "I0329 14:36:57.754873  3867 optimizer.h:232] == Running pass: lite_conv_bn_fuse_pass\n",
      "I0329 14:36:57.757824  3867 optimizer.h:256] == Finished running: lite_conv_bn_fuse_pass\n",
      "I0329 14:36:57.757836  3867 optimizer.h:232] == Running pass: lite_conv_elementwise_fuse_pass\n",
      "I0329 14:36:57.760576  3867 optimizer.h:256] == Finished running: lite_conv_elementwise_fuse_pass\n",
      "I0329 14:36:57.760591  3867 optimizer.h:232] == Running pass: lite_conv_activation_fuse_pass\n",
      "I0329 14:36:57.763209  3867 pattern_matcher.cc:108] detected 23 subgraph\n",
      "I0329 14:36:57.769255  3867 optimizer.h:256] == Finished running: lite_conv_activation_fuse_pass\n",
      "I0329 14:36:57.769277  3867 optimizer.h:232] == Running pass: lite_var_conv_2d_activation_fuse_pass\n",
      "I0329 14:36:57.769284  3867 optimizer.h:245]    - Skip lite_var_conv_2d_activation_fuse_pass because the target or kernel does not match.\n",
      "I0329 14:36:57.769289  3867 optimizer.h:232] == Running pass: lite_fc_fuse_pass\n",
      "I0329 14:36:57.769541  3867 optimizer.h:256] == Finished running: lite_fc_fuse_pass\n",
      "I0329 14:36:57.769551  3867 optimizer.h:232] == Running pass: lite_shuffle_channel_fuse_pass\n",
      "I0329 14:36:57.769811  3867 optimizer.h:256] == Finished running: lite_shuffle_channel_fuse_pass\n",
      "I0329 14:36:57.769822  3867 optimizer.h:232] == Running pass: lite_transpose_softmax_transpose_fuse_pass\n",
      "I0329 14:36:57.770048  3867 optimizer.h:256] == Finished running: lite_transpose_softmax_transpose_fuse_pass\n",
      "I0329 14:36:57.770058  3867 optimizer.h:232] == Running pass: lite_interpolate_fuse_pass\n",
      "I0329 14:36:57.770300  3867 optimizer.h:256] == Finished running: lite_interpolate_fuse_pass\n",
      "I0329 14:36:57.770310  3867 optimizer.h:232] == Running pass: identity_scale_eliminate_pass\n",
      "I0329 14:36:57.770438  3867 pattern_matcher.cc:108] detected 1 subgraph\n",
      "I0329 14:36:57.770510  3867 optimizer.h:256] == Finished running: identity_scale_eliminate_pass\n",
      "I0329 14:36:57.770520  3867 optimizer.h:232] == Running pass: elementwise_mul_constant_eliminate_pass\n",
      "I0329 14:36:57.770690  3867 optimizer.h:256] == Finished running: elementwise_mul_constant_eliminate_pass\n",
      "I0329 14:36:57.770699  3867 optimizer.h:232] == Running pass: lite_sequence_pool_concat_fuse_pass\n",
      "I0329 14:36:57.770704  3867 optimizer.h:245]    - Skip lite_sequence_pool_concat_fuse_pass because the target or kernel does not match.\n",
      "I0329 14:36:57.770707  3867 optimizer.h:232] == Running pass: __xpu__resnet_fuse_pass\n",
      "I0329 14:36:57.770711  3867 optimizer.h:245]    - Skip __xpu__resnet_fuse_pass because the target or kernel does not match.\n",
      "I0329 14:36:57.770723  3867 optimizer.h:232] == Running pass: __xpu__multi_encoder_fuse_pass\n",
      "I0329 14:36:57.770727  3867 optimizer.h:245]    - Skip __xpu__multi_encoder_fuse_pass because the target or kernel does not match.\n",
      "I0329 14:36:57.770730  3867 optimizer.h:232] == Running pass: __xpu__embedding_with_eltwise_add_fuse_pass\n",
      "I0329 14:36:57.770735  3867 optimizer.h:245]    - Skip __xpu__embedding_with_eltwise_add_fuse_pass because the target or kernel does not match.\n",
      "I0329 14:36:57.770740  3867 optimizer.h:232] == Running pass: __xpu__fc_fuse_pass\n",
      "I0329 14:36:57.770750  3867 optimizer.h:245]    - Skip __xpu__fc_fuse_pass because the target or kernel does not match.\n",
      "I0329 14:36:57.770759  3867 optimizer.h:232] == Running pass: identity_dropout_eliminate_pass\n",
      "I0329 14:36:57.770785  3867 optimizer.h:245]    - Skip identity_dropout_eliminate_pass because the target or kernel does not match.\n",
      "I0329 14:36:57.770797  3867 optimizer.h:232] == Running pass: quantized_op_attributes_inference_pass\n",
      "I0329 14:36:57.770804  3867 optimizer.h:245]    - Skip quantized_op_attributes_inference_pass because the target or kernel does not match.\n",
      "I0329 14:36:57.770808  3867 optimizer.h:232] == Running pass: npu_subgraph_pass\n",
      "I0329 14:36:57.770814  3867 optimizer.h:245]    - Skip npu_subgraph_pass because the target or kernel does not match.\n",
      "I0329 14:36:57.770819  3867 optimizer.h:232] == Running pass: xpu_subgraph_pass\n",
      "I0329 14:36:57.770823  3867 optimizer.h:245]    - Skip xpu_subgraph_pass because the target or kernel does not match.\n",
      "I0329 14:36:57.770828  3867 optimizer.h:232] == Running pass: bm_subgraph_pass\n",
      "I0329 14:36:57.770833  3867 optimizer.h:245]    - Skip bm_subgraph_pass because the target or kernel does not match.\n",
      "I0329 14:36:57.770836  3867 optimizer.h:232] == Running pass: apu_subgraph_pass\n",
      "I0329 14:36:57.770841  3867 optimizer.h:245]    - Skip apu_subgraph_pass because the target or kernel does not match.\n",
      "I0329 14:36:57.770845  3867 optimizer.h:232] == Running pass: rknpu_subgraph_pass\n",
      "I0329 14:36:57.770850  3867 optimizer.h:245]    - Skip rknpu_subgraph_pass because the target or kernel does not match.\n",
      "I0329 14:36:57.770854  3867 optimizer.h:232] == Running pass: control_flow_op_unused_inputs_and_outputs_eliminate_pass\n",
      "I0329 14:36:57.770859  3867 optimizer.h:245]    - Skip control_flow_op_unused_inputs_and_outputs_eliminate_pass because the target or kernel does not match.\n",
      "I0329 14:36:57.770864  3867 optimizer.h:232] == Running pass: static_kernel_pick_pass\n",
      "I0329 14:36:57.773800  3867 optimizer.h:256] == Finished running: static_kernel_pick_pass\n",
      "I0329 14:36:57.773821  3867 optimizer.h:232] == Running pass: remove_tf_redundant_ops_pass\n",
      "I0329 14:36:57.773977  3867 optimizer.h:256] == Finished running: remove_tf_redundant_ops_pass\n",
      "I0329 14:36:57.773986  3867 optimizer.h:232] == Running pass: variable_place_inference_pass\n",
      "I0329 14:36:57.774647  3867 optimizer.h:256] == Finished running: variable_place_inference_pass\n",
      "I0329 14:36:57.774657  3867 optimizer.h:232] == Running pass: argument_type_display_pass\n",
      "I0329 14:36:57.774674  3867 optimizer.h:256] == Finished running: argument_type_display_pass\n",
      "I0329 14:36:57.774682  3867 optimizer.h:232] == Running pass: type_target_cast_pass\n",
      "I0329 14:36:57.775004  3867 optimizer.h:256] == Finished running: type_target_cast_pass\n",
      "I0329 14:36:57.775012  3867 optimizer.h:232] == Running pass: variable_place_inference_pass\n",
      "I0329 14:36:57.775493  3867 optimizer.h:256] == Finished running: variable_place_inference_pass\n",
      "I0329 14:36:57.775502  3867 optimizer.h:232] == Running pass: argument_type_display_pass\n",
      "I0329 14:36:57.775508  3867 optimizer.h:256] == Finished running: argument_type_display_pass\n",
      "I0329 14:36:57.775518  3867 optimizer.h:232] == Running pass: io_copy_kernel_pick_pass\n",
      "I0329 14:36:57.775641  3867 optimizer.h:256] == Finished running: io_copy_kernel_pick_pass\n",
      "I0329 14:36:57.775650  3867 optimizer.h:232] == Running pass: argument_type_display_pass\n",
      "I0329 14:36:57.775656  3867 optimizer.h:256] == Finished running: argument_type_display_pass\n",
      "I0329 14:36:57.775671  3867 optimizer.h:232] == Running pass: variable_place_inference_pass\n",
      "I0329 14:36:57.776186  3867 optimizer.h:256] == Finished running: variable_place_inference_pass\n",
      "I0329 14:36:57.776199  3867 optimizer.h:232] == Running pass: argument_type_display_pass\n",
      "I0329 14:36:57.776206  3867 optimizer.h:256] == Finished running: argument_type_display_pass\n",
      "I0329 14:36:57.776211  3867 optimizer.h:232] == Running pass: type_precision_cast_pass\n",
      "I0329 14:36:57.776674  3867 optimizer.h:256] == Finished running: type_precision_cast_pass\n",
      "I0329 14:36:57.776684  3867 optimizer.h:232] == Running pass: variable_place_inference_pass\n",
      "I0329 14:36:57.777166  3867 optimizer.h:256] == Finished running: variable_place_inference_pass\n",
      "I0329 14:36:57.777175  3867 optimizer.h:232] == Running pass: argument_type_display_pass\n",
      "I0329 14:36:57.777181  3867 optimizer.h:256] == Finished running: argument_type_display_pass\n",
      "I0329 14:36:57.777186  3867 optimizer.h:232] == Running pass: type_layout_cast_pass\n",
      "I0329 14:36:57.777629  3867 optimizer.h:256] == Finished running: type_layout_cast_pass\n",
      "I0329 14:36:57.777639  3867 optimizer.h:232] == Running pass: argument_type_display_pass\n",
      "I0329 14:36:57.777645  3867 optimizer.h:256] == Finished running: argument_type_display_pass\n",
      "I0329 14:36:57.777649  3867 optimizer.h:232] == Running pass: variable_place_inference_pass\n",
      "I0329 14:36:57.778144  3867 optimizer.h:256] == Finished running: variable_place_inference_pass\n",
      "I0329 14:36:57.778153  3867 optimizer.h:232] == Running pass: argument_type_display_pass\n",
      "I0329 14:36:57.778160  3867 optimizer.h:256] == Finished running: argument_type_display_pass\n",
      "I0329 14:36:57.778168  3867 optimizer.h:232] == Running pass: mlu_subgraph_pass\n",
      "I0329 14:36:57.778199  3867 optimizer.h:245]    - Skip mlu_subgraph_pass because the target or kernel does not match.\n",
      "I0329 14:36:57.778208  3867 optimizer.h:232] == Running pass: runtime_context_assign_pass\n",
      "I0329 14:36:57.778225  3867 optimizer.h:256] == Finished running: runtime_context_assign_pass\n",
      "I0329 14:36:57.778232  3867 optimizer.h:232] == Running pass: argument_type_display_pass\n",
      "I0329 14:36:57.778239  3867 optimizer.h:256] == Finished running: argument_type_display_pass\n",
      "I0329 14:36:57.778242  3867 optimizer.h:232] == Running pass: mlu_postprocess_pass\n",
      "I0329 14:36:57.778249  3867 optimizer.h:245]    - Skip mlu_postprocess_pass because the target or kernel does not match.\n",
      "I0329 14:36:57.778259  3867 optimizer.h:232] == Running pass: memory_optimize_pass\n",
      "I0329 14:36:57.778703  3867 memory_optimize_pass.cc:160] There are 1 types device var.\n",
      "I0329 14:36:57.779165  3867 memory_optimize_pass.cc:209] cluster: softmax_0.tmp_0\n",
      "I0329 14:36:57.779175  3867 memory_optimize_pass.cc:209] cluster: reshape2_1.tmp_0\n",
      "I0329 14:36:57.779177  3867 memory_optimize_pass.cc:209] cluster: prior_box_1.tmp_1\n",
      "I0329 14:36:57.779181  3867 memory_optimize_pass.cc:209] cluster: prior_box_0.tmp_1\n",
      "I0329 14:36:57.779183  3867 memory_optimize_pass.cc:209] cluster: prior_box_0.tmp_0\n",
      "I0329 14:36:57.779191  3867 memory_optimize_pass.cc:209] cluster: conv8_2.conv2d.output.1.tmp_2\n",
      "I0329 14:36:57.779201  3867 memory_optimize_pass.cc:209] cluster: conv2d_1.tmp_1\n",
      "I0329 14:36:57.779230  3867 memory_optimize_pass.cc:209] cluster: conv7_2.conv2d.output.1.tmp_2\n",
      "I0329 14:36:57.779240  3867 memory_optimize_pass.cc:209] cluster: conv9_2.conv2d.output.1.tmp_2\n",
      "I0329 14:36:57.779247  3867 memory_optimize_pass.cc:209] cluster: transpose_2.tmp_1\n",
      "I0329 14:36:57.779250  3867 memory_optimize_pass.cc:209] cluster: prior_box_1.tmp_0\n",
      "I0329 14:36:57.779254  3867 memory_optimize_pass.cc:209] cluster: fc7.conv2d.output.1.tmp_2\n",
      "I0329 14:36:57.779261  3867 memory_optimize_pass.cc:209] cluster: prior_box_2.tmp_1\n",
      "I0329 14:36:57.779268  3867 memory_optimize_pass.cc:209] cluster: prior_box_4.tmp_0\n",
      "I0329 14:36:57.779271  3867 memory_optimize_pass.cc:209] cluster: transpose_8.tmp_0\n",
      "I0329 14:36:57.779274  3867 memory_optimize_pass.cc:209] cluster: transpose_10.tmp_0\n",
      "I0329 14:36:57.782111  3867 optimizer.h:256] == Finished running: memory_optimize_pass\n",
      "I0329 14:36:57.782227  3867 generate_program_pass.h:37] insts.size 1\n",
      "I0329 14:36:58.171792  3867 model_parser.cc:593] Save naive buffer model in './inference/ssd_vgg16_300_voc.nb' successfully\n",
      "Save the optimized model into :./inference/ssd_vgg16_300_vocsuccessfully"
     ]
    }
   ],
   "source": [
    "# 准备PaddleLite部署模型\r\n",
    "# 生成文件存储在work/PaddleDetection/inference\r\n",
    "!paddle_lite_opt \\\r\n",
    "    --model_file=inference/ssd_vgg16_300_voc/__model__ \\\r\n",
    "    --param_file=inference/ssd_vgg16_300_voc/__params__ \\\r\n",
    "    --optimize_out=./inference/ssd_vgg16_300_voc \\\r\n",
    "    --optimize_out_type=naive_buffer \\\r\n",
    "    --valid_targets=arm "
   ]
  },
  {
   "cell_type": "code",
   "execution_count": null,
   "metadata": {
    "collapsed": false
   },
   "outputs": [],
   "source": []
  },
  {
   "cell_type": "markdown",
   "metadata": {
    "collapsed": false
   },
   "source": [
    "请点击[此处](https://ai.baidu.com/docs#/AIStudio_Project_Notebook/a38e5576)查看本环境基本用法.  <br>\n",
    "Please click [here ](https://ai.baidu.com/docs#/AIStudio_Project_Notebook/a38e5576) for more detailed instructions. "
   ]
  }
 ],
 "metadata": {
  "kernelspec": {
   "display_name": "PaddlePaddle 1.8.4 (Python 3.5)",
   "language": "python",
   "name": "py35-paddle1.2.0"
  },
  "language_info": {
   "codemirror_mode": {
    "name": "ipython",
    "version": 3
   },
   "file_extension": ".py",
   "mimetype": "text/x-python",
   "name": "python",
   "nbconvert_exporter": "python",
   "pygments_lexer": "ipython3",
   "version": "3.7.4"
  }
 },
 "nbformat": 4,
 "nbformat_minor": 1
}
